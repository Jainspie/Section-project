{
  "cells": [
    {
      "cell_type": "markdown",
      "metadata": {
        "id": "view-in-github",
        "colab_type": "text"
      },
      "source": [
        "<a href=\"https://colab.research.google.com/github/Jainspie/Section-project/blob/main/Part1_3.ipynb\" target=\"_parent\"><img src=\"https://colab.research.google.com/assets/colab-badge.svg\" alt=\"Open In Colab\"/></a>"
      ]
    },
    {
      "cell_type": "markdown",
      "id": "c8e6536d",
      "metadata": {
        "id": "c8e6536d"
      },
      "source": [
        "# 확인하세요!\n",
        "\n",
        "### 제출 전에 모든 코드가 순차적으로 잘 작동하는지 확인하세요. \n",
        "- **커널을 다시 시작**한 다음(메뉴바에서 런타임$\\rightarrow$런타임 다시 시작 선택) **모든 셀을 실행**해 보세요(메뉴바에서 런타임$\\rightarrow$모두 실행 선택).\n",
        "\n",
        "### 지정 셀의 지정 영역에서만 코드를 작성했는지 확인하세요.\n",
        "- `YOUR CODE HERE`이 적혀 있는 셀에 대한 코드만 채점에 반영됩니다.\n",
        "- `YOUR CODE HERE` ~ `YOUR CODE ENDS HERE` 사이에 본인의 코드를 작성하세요.\n",
        "- 지정 셀 이외에 본인이 코드 실행 결과를 확인하기 위한 용도로 셀을 추가해도 됩니다.\n",
        "    - **제출 시 지정 셀에서는 정답 이외에 결과 확인을 위한 코드 등은 제거하고 제출해 주세요!**\n",
        "    - **기존 셀을 삭제하지 마세요! 채점에 불이익이 있을 수 있습니다.**\n",
        "\n",
        "### 제출 방법\n",
        "- 시간 내에 문제를 풀고, 본인의 github repo에 push 하세요.\n",
        "    - **디렉토리 구조가 변하면 안 됩니다.** `codestates/ds-sc2xx`와 디렉토리 구조가 동일해야 합니다. 답안 파일의 이름을 변경하지 않았는지, 기존에 없던 폴더가 추가되지 않았는지 등을 확인하세요.\n",
        "    - **코드스테이츠 가입 시 연동한 github 계정을 사용해야 합니다.**\n",
        "    - **branch를 변경하여 작업하지 마세요.**\n",
        "        - `master` branch에의 제출 사항에 대해서만 평가합니다.\n",
        "        - 본인의 github repo `master` branch에 제출이 잘 되어 있는지 확인하세요."
      ]
    },
    {
      "cell_type": "markdown",
      "id": "efbb464d",
      "metadata": {
        "id": "efbb464d"
      },
      "source": [
        "---"
      ]
    },
    {
      "cell_type": "markdown",
      "id": "6f4f7cc5",
      "metadata": {
        "deletable": false,
        "editable": false,
        "id": "6f4f7cc5",
        "nbgrader": {
          "cell_type": "markdown",
          "checksum": "75d1a96b35e95ad998708dbf4ac9a614",
          "grade": false,
          "grade_id": "cell-5b7fa4769535997c",
          "locked": true,
          "schema_version": 3,
          "solution": false,
          "task": false
        }
      },
      "source": [
        "# SC23x\n",
        " \n",
        "## Applied Predictive Modeling\n",
        "\n",
        " 이번 스프린트 챌린지에서는 시카고에 있는 식당들의 정보와 해당 식당들의 위생 검사 결과에 관한 데이터를 담은 데이터셋을 다루게 됩니다.\n",
        "\n",
        "데이터셋에 관한 설명은 이 [PDF](https://data.cityofchicago.org/api/assets/BAD5301B-681A-4202-9D25-51B2CAE672FF)를 참고해주시길 바랍니다."
      ]
    },
    {
      "cell_type": "markdown",
      "id": "47d7d20d",
      "metadata": {
        "deletable": false,
        "editable": false,
        "id": "47d7d20d",
        "nbgrader": {
          "cell_type": "markdown",
          "checksum": "10c83cf610a0d051d3ba4677ce80a614",
          "grade": false,
          "grade_id": "cell-b104eb070075cc6e",
          "locked": true,
          "schema_version": 3,
          "solution": false,
          "task": false
        }
      },
      "source": [
        "#### 목표: 오늘 여러분은 Chicago시의 공중보건부에서 진행한 레스토랑들의 위생 검사 \"불합격\" 여부를 예측하는 모델을 만들어야 합니다.\n",
        "\n",
        "여러분의 모델이 예측할 target은 `Inspection Fail` 칼럼입니다.   \n",
        "칼럼 값은 아래와 같습니다:\n",
        "- 식당이 위생 검사에 불합격한 경우: **1**\n",
        "- 식당이 검사를 통과한 경우: **0**"
      ]
    },
    {
      "cell_type": "code",
      "execution_count": 27,
      "id": "cdad95b2",
      "metadata": {
        "deletable": false,
        "editable": false,
        "id": "cdad95b2",
        "nbgrader": {
          "cell_type": "code",
          "checksum": "e7a8529b79799d662c5cdbc004638938",
          "grade": false,
          "grade_id": "cell-ee764f0e965ac62a",
          "locked": true,
          "schema_version": 3,
          "solution": false,
          "task": false
        },
        "colab": {
          "base_uri": "https://localhost:8080/"
        },
        "outputId": "d4f9048b-1d2f-4c93-a146-8df2a7ed2c42"
      },
      "outputs": [
        {
          "output_type": "stream",
          "name": "stdout",
          "text": [
            "Looking in indexes: https://pypi.org/simple, https://us-python.pkg.dev/colab-wheels/public/simple/\n",
            "Requirement already satisfied: category_encoders==2.* in /usr/local/lib/python3.9/dist-packages (2.6.0)\n",
            "Requirement already satisfied: numpy>=1.14.0 in /usr/local/lib/python3.9/dist-packages (from category_encoders==2.*) (1.22.4)\n",
            "Requirement already satisfied: statsmodels>=0.9.0 in /usr/local/lib/python3.9/dist-packages (from category_encoders==2.*) (0.13.5)\n",
            "Requirement already satisfied: scipy>=1.0.0 in /usr/local/lib/python3.9/dist-packages (from category_encoders==2.*) (1.10.1)\n",
            "Requirement already satisfied: scikit-learn>=0.20.0 in /usr/local/lib/python3.9/dist-packages (from category_encoders==2.*) (1.2.2)\n",
            "Requirement already satisfied: pandas>=1.0.5 in /usr/local/lib/python3.9/dist-packages (from category_encoders==2.*) (1.4.4)\n",
            "Requirement already satisfied: patsy>=0.5.1 in /usr/local/lib/python3.9/dist-packages (from category_encoders==2.*) (0.5.3)\n",
            "Requirement already satisfied: python-dateutil>=2.8.1 in /usr/local/lib/python3.9/dist-packages (from pandas>=1.0.5->category_encoders==2.*) (2.8.2)\n",
            "Requirement already satisfied: pytz>=2020.1 in /usr/local/lib/python3.9/dist-packages (from pandas>=1.0.5->category_encoders==2.*) (2022.7.1)\n",
            "Requirement already satisfied: six in /usr/local/lib/python3.9/dist-packages (from patsy>=0.5.1->category_encoders==2.*) (1.16.0)\n",
            "Requirement already satisfied: threadpoolctl>=2.0.0 in /usr/local/lib/python3.9/dist-packages (from scikit-learn>=0.20.0->category_encoders==2.*) (3.1.0)\n",
            "Requirement already satisfied: joblib>=1.1.1 in /usr/local/lib/python3.9/dist-packages (from scikit-learn>=0.20.0->category_encoders==2.*) (1.1.1)\n",
            "Requirement already satisfied: packaging>=21.3 in /usr/local/lib/python3.9/dist-packages (from statsmodels>=0.9.0->category_encoders==2.*) (23.0)\n",
            "Looking in indexes: https://pypi.org/simple, https://us-python.pkg.dev/colab-wheels/public/simple/\n",
            "Requirement already satisfied: eli5 in /usr/local/lib/python3.9/dist-packages (0.13.0)\n",
            "Requirement already satisfied: attrs>17.1.0 in /usr/local/lib/python3.9/dist-packages (from eli5) (22.2.0)\n",
            "Requirement already satisfied: scipy in /usr/local/lib/python3.9/dist-packages (from eli5) (1.10.1)\n",
            "Requirement already satisfied: scikit-learn>=0.20 in /usr/local/lib/python3.9/dist-packages (from eli5) (1.2.2)\n",
            "Requirement already satisfied: tabulate>=0.7.7 in /usr/local/lib/python3.9/dist-packages (from eli5) (0.8.10)\n",
            "Requirement already satisfied: six in /usr/local/lib/python3.9/dist-packages (from eli5) (1.16.0)\n",
            "Requirement already satisfied: numpy>=1.9.0 in /usr/local/lib/python3.9/dist-packages (from eli5) (1.22.4)\n",
            "Requirement already satisfied: graphviz in /usr/local/lib/python3.9/dist-packages (from eli5) (0.20.1)\n",
            "Requirement already satisfied: jinja2>=3.0.0 in /usr/local/lib/python3.9/dist-packages (from eli5) (3.1.2)\n",
            "Requirement already satisfied: MarkupSafe>=2.0 in /usr/local/lib/python3.9/dist-packages (from jinja2>=3.0.0->eli5) (2.1.2)\n",
            "Requirement already satisfied: joblib>=1.1.1 in /usr/local/lib/python3.9/dist-packages (from scikit-learn>=0.20->eli5) (1.1.1)\n",
            "Requirement already satisfied: threadpoolctl>=2.0.0 in /usr/local/lib/python3.9/dist-packages (from scikit-learn>=0.20->eli5) (3.1.0)\n",
            "Looking in indexes: https://pypi.org/simple, https://us-python.pkg.dev/colab-wheels/public/simple/\n",
            "Requirement already satisfied: pandas-profiling==2.* in /usr/local/lib/python3.9/dist-packages (2.13.0)\n",
            "Requirement already satisfied: visions[type_image_path]==0.7.1 in /usr/local/lib/python3.9/dist-packages (from pandas-profiling==2.*) (0.7.1)\n",
            "Requirement already satisfied: tangled-up-in-unicode>=0.0.6 in /usr/local/lib/python3.9/dist-packages (from pandas-profiling==2.*) (0.2.0)\n",
            "Requirement already satisfied: requests>=2.24.0 in /usr/local/lib/python3.9/dist-packages (from pandas-profiling==2.*) (2.27.1)\n",
            "Requirement already satisfied: numpy>=1.16.0 in /usr/local/lib/python3.9/dist-packages (from pandas-profiling==2.*) (1.22.4)\n",
            "Requirement already satisfied: attrs>=19.3.0 in /usr/local/lib/python3.9/dist-packages (from pandas-profiling==2.*) (22.2.0)\n",
            "Requirement already satisfied: htmlmin>=0.1.12 in /usr/local/lib/python3.9/dist-packages (from pandas-profiling==2.*) (0.1.12)\n",
            "Requirement already satisfied: matplotlib>=3.2.0 in /usr/local/lib/python3.9/dist-packages (from pandas-profiling==2.*) (3.7.1)\n",
            "Requirement already satisfied: missingno>=0.4.2 in /usr/local/lib/python3.9/dist-packages (from pandas-profiling==2.*) (0.5.2)\n",
            "Requirement already satisfied: joblib in /usr/local/lib/python3.9/dist-packages (from pandas-profiling==2.*) (1.1.1)\n",
            "Requirement already satisfied: tqdm>=4.48.2 in /usr/local/lib/python3.9/dist-packages (from pandas-profiling==2.*) (4.65.0)\n",
            "Requirement already satisfied: scipy>=1.4.1 in /usr/local/lib/python3.9/dist-packages (from pandas-profiling==2.*) (1.10.1)\n",
            "Requirement already satisfied: seaborn>=0.10.1 in /usr/local/lib/python3.9/dist-packages (from pandas-profiling==2.*) (0.12.2)\n",
            "Requirement already satisfied: phik>=0.11.1 in /usr/local/lib/python3.9/dist-packages (from pandas-profiling==2.*) (0.12.3)\n",
            "Requirement already satisfied: confuse>=1.0.0 in /usr/local/lib/python3.9/dist-packages (from pandas-profiling==2.*) (2.0.1)\n",
            "Requirement already satisfied: pandas!=1.0.0,!=1.0.1,!=1.0.2,!=1.1.0,>=0.25.3 in /usr/local/lib/python3.9/dist-packages (from pandas-profiling==2.*) (1.4.4)\n",
            "Requirement already satisfied: jinja2>=2.11.1 in /usr/local/lib/python3.9/dist-packages (from pandas-profiling==2.*) (3.1.2)\n",
            "Requirement already satisfied: networkx>=2.4 in /usr/local/lib/python3.9/dist-packages (from visions[type_image_path]==0.7.1->pandas-profiling==2.*) (3.0)\n",
            "Requirement already satisfied: multimethod==1.4 in /usr/local/lib/python3.9/dist-packages (from visions[type_image_path]==0.7.1->pandas-profiling==2.*) (1.4)\n",
            "Requirement already satisfied: bottleneck in /usr/local/lib/python3.9/dist-packages (from visions[type_image_path]==0.7.1->pandas-profiling==2.*) (1.3.7)\n",
            "Requirement already satisfied: imagehash in /usr/local/lib/python3.9/dist-packages (from visions[type_image_path]==0.7.1->pandas-profiling==2.*) (4.3.1)\n",
            "Requirement already satisfied: Pillow in /usr/local/lib/python3.9/dist-packages (from visions[type_image_path]==0.7.1->pandas-profiling==2.*) (8.4.0)\n",
            "Requirement already satisfied: pyyaml in /usr/local/lib/python3.9/dist-packages (from confuse>=1.0.0->pandas-profiling==2.*) (6.0)\n",
            "Requirement already satisfied: MarkupSafe>=2.0 in /usr/local/lib/python3.9/dist-packages (from jinja2>=2.11.1->pandas-profiling==2.*) (2.1.2)\n",
            "Requirement already satisfied: pyparsing>=2.3.1 in /usr/local/lib/python3.9/dist-packages (from matplotlib>=3.2.0->pandas-profiling==2.*) (3.0.9)\n",
            "Requirement already satisfied: fonttools>=4.22.0 in /usr/local/lib/python3.9/dist-packages (from matplotlib>=3.2.0->pandas-profiling==2.*) (4.39.3)\n",
            "Requirement already satisfied: python-dateutil>=2.7 in /usr/local/lib/python3.9/dist-packages (from matplotlib>=3.2.0->pandas-profiling==2.*) (2.8.2)\n",
            "Requirement already satisfied: packaging>=20.0 in /usr/local/lib/python3.9/dist-packages (from matplotlib>=3.2.0->pandas-profiling==2.*) (23.0)\n",
            "Requirement already satisfied: kiwisolver>=1.0.1 in /usr/local/lib/python3.9/dist-packages (from matplotlib>=3.2.0->pandas-profiling==2.*) (1.4.4)\n",
            "Requirement already satisfied: cycler>=0.10 in /usr/local/lib/python3.9/dist-packages (from matplotlib>=3.2.0->pandas-profiling==2.*) (0.11.0)\n",
            "Requirement already satisfied: contourpy>=1.0.1 in /usr/local/lib/python3.9/dist-packages (from matplotlib>=3.2.0->pandas-profiling==2.*) (1.0.7)\n",
            "Requirement already satisfied: importlib-resources>=3.2.0 in /usr/local/lib/python3.9/dist-packages (from matplotlib>=3.2.0->pandas-profiling==2.*) (5.12.0)\n",
            "Requirement already satisfied: pytz>=2020.1 in /usr/local/lib/python3.9/dist-packages (from pandas!=1.0.0,!=1.0.1,!=1.0.2,!=1.1.0,>=0.25.3->pandas-profiling==2.*) (2022.7.1)\n",
            "Requirement already satisfied: certifi>=2017.4.17 in /usr/local/lib/python3.9/dist-packages (from requests>=2.24.0->pandas-profiling==2.*) (2022.12.7)\n",
            "Requirement already satisfied: charset-normalizer~=2.0.0 in /usr/local/lib/python3.9/dist-packages (from requests>=2.24.0->pandas-profiling==2.*) (2.0.12)\n",
            "Requirement already satisfied: idna<4,>=2.5 in /usr/local/lib/python3.9/dist-packages (from requests>=2.24.0->pandas-profiling==2.*) (3.4)\n",
            "Requirement already satisfied: urllib3<1.27,>=1.21.1 in /usr/local/lib/python3.9/dist-packages (from requests>=2.24.0->pandas-profiling==2.*) (1.26.15)\n",
            "Requirement already satisfied: zipp>=3.1.0 in /usr/local/lib/python3.9/dist-packages (from importlib-resources>=3.2.0->matplotlib>=3.2.0->pandas-profiling==2.*) (3.15.0)\n",
            "Requirement already satisfied: six>=1.5 in /usr/local/lib/python3.9/dist-packages (from python-dateutil>=2.7->matplotlib>=3.2.0->pandas-profiling==2.*) (1.16.0)\n",
            "Requirement already satisfied: PyWavelets in /usr/local/lib/python3.9/dist-packages (from imagehash->visions[type_image_path]==0.7.1->pandas-profiling==2.*) (1.4.1)\n",
            "Looking in indexes: https://pypi.org/simple, https://us-python.pkg.dev/colab-wheels/public/simple/\n",
            "Requirement already satisfied: xgboost==1.7.2 in /usr/local/lib/python3.9/dist-packages (1.7.2)\n",
            "Requirement already satisfied: numpy in /usr/local/lib/python3.9/dist-packages (from xgboost==1.7.2) (1.22.4)\n",
            "Requirement already satisfied: scipy in /usr/local/lib/python3.9/dist-packages (from xgboost==1.7.2) (1.10.1)\n",
            "Looking in indexes: https://pypi.org/simple, https://us-python.pkg.dev/colab-wheels/public/simple/\n",
            "Collecting pdpbox==0.2\n",
            "  Downloading PDPbox-0.2.0.tar.gz (57.7 MB)\n",
            "\u001b[2K     \u001b[90m━━━━━━━━━━━━━━━━━━━━━━━━━━━━━━━━━━━━━━━━\u001b[0m \u001b[32m57.7/57.7 MB\u001b[0m \u001b[31m17.4 MB/s\u001b[0m eta \u001b[36m0:00:00\u001b[0m\n",
            "\u001b[?25h  Preparing metadata (setup.py) ... \u001b[?25l\u001b[?25hdone\n",
            "Requirement already satisfied: pandas in /usr/local/lib/python3.9/dist-packages (from pdpbox==0.2) (1.4.4)\n",
            "Requirement already satisfied: numpy in /usr/local/lib/python3.9/dist-packages (from pdpbox==0.2) (1.22.4)\n",
            "Requirement already satisfied: scipy in /usr/local/lib/python3.9/dist-packages (from pdpbox==0.2) (1.10.1)\n",
            "Requirement already satisfied: matplotlib>=2.1.2 in /usr/local/lib/python3.9/dist-packages (from pdpbox==0.2) (3.7.1)\n",
            "Requirement already satisfied: joblib in /usr/local/lib/python3.9/dist-packages (from pdpbox==0.2) (1.1.1)\n",
            "Requirement already satisfied: psutil in /usr/local/lib/python3.9/dist-packages (from pdpbox==0.2) (5.9.4)\n",
            "Requirement already satisfied: scikit-learn in /usr/local/lib/python3.9/dist-packages (from pdpbox==0.2) (1.2.2)\n",
            "Requirement already satisfied: contourpy>=1.0.1 in /usr/local/lib/python3.9/dist-packages (from matplotlib>=2.1.2->pdpbox==0.2) (1.0.7)\n",
            "Requirement already satisfied: fonttools>=4.22.0 in /usr/local/lib/python3.9/dist-packages (from matplotlib>=2.1.2->pdpbox==0.2) (4.39.3)\n",
            "Requirement already satisfied: cycler>=0.10 in /usr/local/lib/python3.9/dist-packages (from matplotlib>=2.1.2->pdpbox==0.2) (0.11.0)\n",
            "Requirement already satisfied: kiwisolver>=1.0.1 in /usr/local/lib/python3.9/dist-packages (from matplotlib>=2.1.2->pdpbox==0.2) (1.4.4)\n",
            "Requirement already satisfied: python-dateutil>=2.7 in /usr/local/lib/python3.9/dist-packages (from matplotlib>=2.1.2->pdpbox==0.2) (2.8.2)\n",
            "Requirement already satisfied: packaging>=20.0 in /usr/local/lib/python3.9/dist-packages (from matplotlib>=2.1.2->pdpbox==0.2) (23.0)\n",
            "Requirement already satisfied: pyparsing>=2.3.1 in /usr/local/lib/python3.9/dist-packages (from matplotlib>=2.1.2->pdpbox==0.2) (3.0.9)\n",
            "Requirement already satisfied: pillow>=6.2.0 in /usr/local/lib/python3.9/dist-packages (from matplotlib>=2.1.2->pdpbox==0.2) (8.4.0)\n",
            "Requirement already satisfied: importlib-resources>=3.2.0 in /usr/local/lib/python3.9/dist-packages (from matplotlib>=2.1.2->pdpbox==0.2) (5.12.0)\n",
            "Requirement already satisfied: pytz>=2020.1 in /usr/local/lib/python3.9/dist-packages (from pandas->pdpbox==0.2) (2022.7.1)\n",
            "Requirement already satisfied: threadpoolctl>=2.0.0 in /usr/local/lib/python3.9/dist-packages (from scikit-learn->pdpbox==0.2) (3.1.0)\n",
            "Requirement already satisfied: zipp>=3.1.0 in /usr/local/lib/python3.9/dist-packages (from importlib-resources>=3.2.0->matplotlib>=2.1.2->pdpbox==0.2) (3.15.0)\n",
            "Requirement already satisfied: six>=1.5 in /usr/local/lib/python3.9/dist-packages (from python-dateutil>=2.7->matplotlib>=2.1.2->pdpbox==0.2) (1.16.0)\n",
            "Building wheels for collected packages: pdpbox\n",
            "  Building wheel for pdpbox (setup.py) ... \u001b[?25l\u001b[?25hdone\n",
            "  Created wheel for pdpbox: filename=PDPbox-0.2.0-py3-none-any.whl size=57690721 sha256=fb03492ff294f5fb3296e0d9fd1ca9329a0d30b86b450632af5f8f44212621f6\n",
            "  Stored in directory: /root/.cache/pip/wheels/96/52/0a/c66141e9ac8c6bd7ccc2170d835b827ba7ca16de4960c2a04c\n",
            "Successfully built pdpbox\n",
            "Installing collected packages: pdpbox\n",
            "Successfully installed pdpbox-0.2.0\n"
          ]
        }
      ],
      "source": [
        "# Google Colab을 사용하는 경우 해당 셀을 실행하세요\n",
        "import sys\n",
        "\n",
        "if \"google.colab\" in sys.modules:\n",
        "    # Install packages in Colab\n",
        "    !pip install category_encoders==2.*\n",
        "    !pip install eli5\n",
        "    !pip install pandas-profiling==2.*\n",
        "    !pip install xgboost==1.7.2\n",
        "    \n",
        "    #pdpdbox 설치 후 런타임을 꼭 다시 실행시켜주세요!!\n",
        "    !pip install pdpbox==0.2"
      ]
    },
    {
      "cell_type": "code",
      "execution_count": 2,
      "id": "3a53a31f",
      "metadata": {
        "deletable": false,
        "editable": false,
        "id": "3a53a31f",
        "nbgrader": {
          "cell_type": "code",
          "checksum": "500f97ad2b27602d50ee4881fa5b53d4",
          "grade": false,
          "grade_id": "cell-2602a05446403de0",
          "locked": true,
          "schema_version": 3,
          "solution": false,
          "task": false
        }
      },
      "outputs": [],
      "source": [
        "# 데이터셋을 불러오기 위해 판다스 라이브러리를 불러옵니다\n",
        "import warnings\n",
        "warnings.filterwarnings(\"ignore\")\n",
        "\n",
        "import pandas as pd\n",
        "\n",
        "train_url = \"https://ds-lecture-data.s3.ap-northeast-2.amazonaws.com/food_inspection_sc23x/food_ins_train.csv\"\n",
        "test_url = \"https://ds-lecture-data.s3.ap-northeast-2.amazonaws.com/food_inspection_sc23x/food_ins_test.csv\"\n",
        "\n",
        "# train, test 데이터셋을 불러옵니다\n",
        "train = pd.read_csv(train_url)\n",
        "test = pd.read_csv(test_url)\n",
        "\n",
        "# 데이터셋 확인\n",
        "assert train.shape == (60000, 17)\n",
        "assert test.shape == (20000, 17)"
      ]
    },
    {
      "cell_type": "code",
      "execution_count": 3,
      "id": "f34ba7af",
      "metadata": {
        "deletable": false,
        "editable": false,
        "id": "f34ba7af",
        "nbgrader": {
          "cell_type": "code",
          "checksum": "11755eee8159a394025f4ec9bf02631c",
          "grade": false,
          "grade_id": "cell-5588e0945ba113c3",
          "locked": true,
          "schema_version": 3,
          "solution": false,
          "task": false
        },
        "colab": {
          "base_uri": "https://localhost:8080/",
          "height": 565
        },
        "outputId": "1a4361a3-d195-48fe-91b2-25670dc2476c"
      },
      "outputs": [
        {
          "output_type": "execute_result",
          "data": {
            "text/plain": [
              "   Inspection ID              DBA Name           AKA Name  License #  \\\n",
              "0        2050629  MY SWEET STATION INC   MY SWEET STATION  2327223.0   \n",
              "1        2078428              OUTTAKES          RED MANGO  2125004.0   \n",
              "2        1591748          JAFFA BAGELS       JAFFA BAGELS  2278918.0   \n",
              "3        1230035      FRANKS 'N' DAWGS   FRANKS 'N' DAWGS  2094329.0   \n",
              "4        1228186           SOUTH COAST  SOUTH COAST SUSHI  1817424.0   \n",
              "\n",
              "  Facility Type             Risk               Address     City State  \\\n",
              "0    Restaurant    Risk 1 (High)   2511 N LINCOLN AVE   CHICAGO    IL   \n",
              "1    Restaurant  Risk 2 (Medium)  10 S DEARBORN ST FL   CHICAGO    IL   \n",
              "2    Restaurant    Risk 1 (High)   225 N MICHIGAN AVE   CHICAGO    IL   \n",
              "3    Restaurant    Risk 1 (High)  1863 N CLYBOURN AVE   CHICAGO    IL   \n",
              "4    Restaurant    Risk 1 (High)  1700 S MICHIGAN AVE   CHICAGO    IL   \n",
              "\n",
              "       Zip Inspection Date Inspection Type  \\\n",
              "0  60614.0      2017-05-18         Canvass   \n",
              "1  60603.0      2017-08-14         Canvass   \n",
              "2  60601.0      2015-12-15       Complaint   \n",
              "3  60614.0      2012-07-10         Canvass   \n",
              "4  60616.0      2013-09-20         Canvass   \n",
              "\n",
              "                                          Violations   Latitude  Longitude  \\\n",
              "0                                                NaN  41.927577 -87.651528   \n",
              "1  34. FLOORS: CONSTRUCTED PER CODE, CLEANED, GOO...  41.881807 -87.629543   \n",
              "2  30. FOOD IN ORIGINAL CONTAINER, PROPERLY LABEL...  41.886377 -87.624382   \n",
              "3  33. FOOD AND NON-FOOD CONTACT EQUIPMENT UTENSI...  41.914990 -87.654994   \n",
              "4                                                NaN  41.858996 -87.624106   \n",
              "\n",
              "                                  Location  Inspection Fail  \n",
              "0  (-87.65152817242594, 41.92757677830966)                0  \n",
              "1  (-87.62954311539407, 41.88180696006542)                0  \n",
              "2  (-87.62438167043969, 41.88637740620821)                0  \n",
              "3  (-87.65499361162448, 41.91498953039437)                0  \n",
              "4  (-87.62410566978502, 41.85899630014676)                0  "
            ],
            "text/html": [
              "\n",
              "  <div id=\"df-3d603dce-0fb1-43dd-9198-7f6392aa6af7\">\n",
              "    <div class=\"colab-df-container\">\n",
              "      <div>\n",
              "<style scoped>\n",
              "    .dataframe tbody tr th:only-of-type {\n",
              "        vertical-align: middle;\n",
              "    }\n",
              "\n",
              "    .dataframe tbody tr th {\n",
              "        vertical-align: top;\n",
              "    }\n",
              "\n",
              "    .dataframe thead th {\n",
              "        text-align: right;\n",
              "    }\n",
              "</style>\n",
              "<table border=\"1\" class=\"dataframe\">\n",
              "  <thead>\n",
              "    <tr style=\"text-align: right;\">\n",
              "      <th></th>\n",
              "      <th>Inspection ID</th>\n",
              "      <th>DBA Name</th>\n",
              "      <th>AKA Name</th>\n",
              "      <th>License #</th>\n",
              "      <th>Facility Type</th>\n",
              "      <th>Risk</th>\n",
              "      <th>Address</th>\n",
              "      <th>City</th>\n",
              "      <th>State</th>\n",
              "      <th>Zip</th>\n",
              "      <th>Inspection Date</th>\n",
              "      <th>Inspection Type</th>\n",
              "      <th>Violations</th>\n",
              "      <th>Latitude</th>\n",
              "      <th>Longitude</th>\n",
              "      <th>Location</th>\n",
              "      <th>Inspection Fail</th>\n",
              "    </tr>\n",
              "  </thead>\n",
              "  <tbody>\n",
              "    <tr>\n",
              "      <th>0</th>\n",
              "      <td>2050629</td>\n",
              "      <td>MY SWEET STATION INC</td>\n",
              "      <td>MY SWEET STATION</td>\n",
              "      <td>2327223.0</td>\n",
              "      <td>Restaurant</td>\n",
              "      <td>Risk 1 (High)</td>\n",
              "      <td>2511 N LINCOLN AVE</td>\n",
              "      <td>CHICAGO</td>\n",
              "      <td>IL</td>\n",
              "      <td>60614.0</td>\n",
              "      <td>2017-05-18</td>\n",
              "      <td>Canvass</td>\n",
              "      <td>NaN</td>\n",
              "      <td>41.927577</td>\n",
              "      <td>-87.651528</td>\n",
              "      <td>(-87.65152817242594, 41.92757677830966)</td>\n",
              "      <td>0</td>\n",
              "    </tr>\n",
              "    <tr>\n",
              "      <th>1</th>\n",
              "      <td>2078428</td>\n",
              "      <td>OUTTAKES</td>\n",
              "      <td>RED MANGO</td>\n",
              "      <td>2125004.0</td>\n",
              "      <td>Restaurant</td>\n",
              "      <td>Risk 2 (Medium)</td>\n",
              "      <td>10 S DEARBORN ST FL</td>\n",
              "      <td>CHICAGO</td>\n",
              "      <td>IL</td>\n",
              "      <td>60603.0</td>\n",
              "      <td>2017-08-14</td>\n",
              "      <td>Canvass</td>\n",
              "      <td>34. FLOORS: CONSTRUCTED PER CODE, CLEANED, GOO...</td>\n",
              "      <td>41.881807</td>\n",
              "      <td>-87.629543</td>\n",
              "      <td>(-87.62954311539407, 41.88180696006542)</td>\n",
              "      <td>0</td>\n",
              "    </tr>\n",
              "    <tr>\n",
              "      <th>2</th>\n",
              "      <td>1591748</td>\n",
              "      <td>JAFFA BAGELS</td>\n",
              "      <td>JAFFA BAGELS</td>\n",
              "      <td>2278918.0</td>\n",
              "      <td>Restaurant</td>\n",
              "      <td>Risk 1 (High)</td>\n",
              "      <td>225 N MICHIGAN AVE</td>\n",
              "      <td>CHICAGO</td>\n",
              "      <td>IL</td>\n",
              "      <td>60601.0</td>\n",
              "      <td>2015-12-15</td>\n",
              "      <td>Complaint</td>\n",
              "      <td>30. FOOD IN ORIGINAL CONTAINER, PROPERLY LABEL...</td>\n",
              "      <td>41.886377</td>\n",
              "      <td>-87.624382</td>\n",
              "      <td>(-87.62438167043969, 41.88637740620821)</td>\n",
              "      <td>0</td>\n",
              "    </tr>\n",
              "    <tr>\n",
              "      <th>3</th>\n",
              "      <td>1230035</td>\n",
              "      <td>FRANKS 'N' DAWGS</td>\n",
              "      <td>FRANKS 'N' DAWGS</td>\n",
              "      <td>2094329.0</td>\n",
              "      <td>Restaurant</td>\n",
              "      <td>Risk 1 (High)</td>\n",
              "      <td>1863 N CLYBOURN AVE</td>\n",
              "      <td>CHICAGO</td>\n",
              "      <td>IL</td>\n",
              "      <td>60614.0</td>\n",
              "      <td>2012-07-10</td>\n",
              "      <td>Canvass</td>\n",
              "      <td>33. FOOD AND NON-FOOD CONTACT EQUIPMENT UTENSI...</td>\n",
              "      <td>41.914990</td>\n",
              "      <td>-87.654994</td>\n",
              "      <td>(-87.65499361162448, 41.91498953039437)</td>\n",
              "      <td>0</td>\n",
              "    </tr>\n",
              "    <tr>\n",
              "      <th>4</th>\n",
              "      <td>1228186</td>\n",
              "      <td>SOUTH COAST</td>\n",
              "      <td>SOUTH COAST SUSHI</td>\n",
              "      <td>1817424.0</td>\n",
              "      <td>Restaurant</td>\n",
              "      <td>Risk 1 (High)</td>\n",
              "      <td>1700 S MICHIGAN AVE</td>\n",
              "      <td>CHICAGO</td>\n",
              "      <td>IL</td>\n",
              "      <td>60616.0</td>\n",
              "      <td>2013-09-20</td>\n",
              "      <td>Canvass</td>\n",
              "      <td>NaN</td>\n",
              "      <td>41.858996</td>\n",
              "      <td>-87.624106</td>\n",
              "      <td>(-87.62410566978502, 41.85899630014676)</td>\n",
              "      <td>0</td>\n",
              "    </tr>\n",
              "  </tbody>\n",
              "</table>\n",
              "</div>\n",
              "      <button class=\"colab-df-convert\" onclick=\"convertToInteractive('df-3d603dce-0fb1-43dd-9198-7f6392aa6af7')\"\n",
              "              title=\"Convert this dataframe to an interactive table.\"\n",
              "              style=\"display:none;\">\n",
              "        \n",
              "  <svg xmlns=\"http://www.w3.org/2000/svg\" height=\"24px\"viewBox=\"0 0 24 24\"\n",
              "       width=\"24px\">\n",
              "    <path d=\"M0 0h24v24H0V0z\" fill=\"none\"/>\n",
              "    <path d=\"M18.56 5.44l.94 2.06.94-2.06 2.06-.94-2.06-.94-.94-2.06-.94 2.06-2.06.94zm-11 1L8.5 8.5l.94-2.06 2.06-.94-2.06-.94L8.5 2.5l-.94 2.06-2.06.94zm10 10l.94 2.06.94-2.06 2.06-.94-2.06-.94-.94-2.06-.94 2.06-2.06.94z\"/><path d=\"M17.41 7.96l-1.37-1.37c-.4-.4-.92-.59-1.43-.59-.52 0-1.04.2-1.43.59L10.3 9.45l-7.72 7.72c-.78.78-.78 2.05 0 2.83L4 21.41c.39.39.9.59 1.41.59.51 0 1.02-.2 1.41-.59l7.78-7.78 2.81-2.81c.8-.78.8-2.07 0-2.86zM5.41 20L4 18.59l7.72-7.72 1.47 1.35L5.41 20z\"/>\n",
              "  </svg>\n",
              "      </button>\n",
              "      \n",
              "  <style>\n",
              "    .colab-df-container {\n",
              "      display:flex;\n",
              "      flex-wrap:wrap;\n",
              "      gap: 12px;\n",
              "    }\n",
              "\n",
              "    .colab-df-convert {\n",
              "      background-color: #E8F0FE;\n",
              "      border: none;\n",
              "      border-radius: 50%;\n",
              "      cursor: pointer;\n",
              "      display: none;\n",
              "      fill: #1967D2;\n",
              "      height: 32px;\n",
              "      padding: 0 0 0 0;\n",
              "      width: 32px;\n",
              "    }\n",
              "\n",
              "    .colab-df-convert:hover {\n",
              "      background-color: #E2EBFA;\n",
              "      box-shadow: 0px 1px 2px rgba(60, 64, 67, 0.3), 0px 1px 3px 1px rgba(60, 64, 67, 0.15);\n",
              "      fill: #174EA6;\n",
              "    }\n",
              "\n",
              "    [theme=dark] .colab-df-convert {\n",
              "      background-color: #3B4455;\n",
              "      fill: #D2E3FC;\n",
              "    }\n",
              "\n",
              "    [theme=dark] .colab-df-convert:hover {\n",
              "      background-color: #434B5C;\n",
              "      box-shadow: 0px 1px 3px 1px rgba(0, 0, 0, 0.15);\n",
              "      filter: drop-shadow(0px 1px 2px rgba(0, 0, 0, 0.3));\n",
              "      fill: #FFFFFF;\n",
              "    }\n",
              "  </style>\n",
              "\n",
              "      <script>\n",
              "        const buttonEl =\n",
              "          document.querySelector('#df-3d603dce-0fb1-43dd-9198-7f6392aa6af7 button.colab-df-convert');\n",
              "        buttonEl.style.display =\n",
              "          google.colab.kernel.accessAllowed ? 'block' : 'none';\n",
              "\n",
              "        async function convertToInteractive(key) {\n",
              "          const element = document.querySelector('#df-3d603dce-0fb1-43dd-9198-7f6392aa6af7');\n",
              "          const dataTable =\n",
              "            await google.colab.kernel.invokeFunction('convertToInteractive',\n",
              "                                                     [key], {});\n",
              "          if (!dataTable) return;\n",
              "\n",
              "          const docLinkHtml = 'Like what you see? Visit the ' +\n",
              "            '<a target=\"_blank\" href=https://colab.research.google.com/notebooks/data_table.ipynb>data table notebook</a>'\n",
              "            + ' to learn more about interactive tables.';\n",
              "          element.innerHTML = '';\n",
              "          dataTable['output_type'] = 'display_data';\n",
              "          await google.colab.output.renderOutput(dataTable, element);\n",
              "          const docLink = document.createElement('div');\n",
              "          docLink.innerHTML = docLinkHtml;\n",
              "          element.appendChild(docLink);\n",
              "        }\n",
              "      </script>\n",
              "    </div>\n",
              "  </div>\n",
              "  "
            ]
          },
          "metadata": {},
          "execution_count": 3
        }
      ],
      "source": [
        "train.head()"
      ]
    },
    {
      "cell_type": "markdown",
      "id": "6b9c8083",
      "metadata": {
        "deletable": false,
        "editable": false,
        "id": "6b9c8083",
        "nbgrader": {
          "cell_type": "markdown",
          "checksum": "96dab9d3b391906d6e6e33edcf985701",
          "grade": false,
          "grade_id": "cell-f75742bcbc000238",
          "locked": true,
          "schema_version": 3,
          "solution": false,
          "task": false
        }
      },
      "source": [
        "# Part 1 - Data Preprocessing"
      ]
    },
    {
      "cell_type": "code",
      "execution_count": 4,
      "id": "a28fd02f",
      "metadata": {
        "deletable": false,
        "editable": false,
        "id": "a28fd02f",
        "nbgrader": {
          "cell_type": "code",
          "checksum": "f69ae8b385afc0be745ee2a15a1ebb42",
          "grade": false,
          "grade_id": "cell-13f1ea7d0f6248a1",
          "locked": true,
          "schema_version": 3,
          "solution": false,
          "task": false
        },
        "colab": {
          "base_uri": "https://localhost:8080/"
        },
        "outputId": "babcd65f-8a6d-4683-af5e-0bd7fdf016ca"
      },
      "outputs": [
        {
          "output_type": "execute_result",
          "data": {
            "text/plain": [
              "0        0\n",
              "1        0\n",
              "2        0\n",
              "3        0\n",
              "4        0\n",
              "        ..\n",
              "19995    0\n",
              "19996    0\n",
              "19997    0\n",
              "19998    0\n",
              "19999    0\n",
              "Name: Inspection Fail, Length: 20000, dtype: int64"
            ]
          },
          "metadata": {},
          "execution_count": 4
        }
      ],
      "source": [
        "test[\"Inspection Fail\"]"
      ]
    },
    {
      "cell_type": "markdown",
      "id": "a94d9ce7",
      "metadata": {
        "deletable": false,
        "editable": false,
        "id": "a94d9ce7",
        "nbgrader": {
          "cell_type": "markdown",
          "checksum": "394b74d7af30cee0e869e38eb5dcae91",
          "grade": false,
          "grade_id": "cell-2e2530fc1a4e5a3b",
          "locked": true,
          "schema_version": 3,
          "solution": false,
          "task": false
        }
      },
      "source": [
        "## 컬럼 설명\n",
        "\n",
        "- **DBA**: 설립 시 서류에 등록한 이름\n",
        "\n",
        "- **AKA**: 대중들에게 알려져 있는 상표 이름\n",
        "\n",
        "- **License number**: 사업자 고유번호 (사업자등록번호)\n",
        "\n",
        "- **Type of facility**: 매장 업종 \n",
        "\n",
        "    bakery, banquet hall, candy store, caterer, coffee shop, day care center (for ages less than 2), day care center (for ages 2 – 6), day care center (combo, for ages less than 2 and 2-6 combined), gas station, Golden Diner, grocery store, hospital, long term care center(nursing home), liquor store, mobile food dispenser, restaurant, paleteria, school, shelter, tavern, social club, wholesaler, or Wrigley Field Rooftop.\n",
        "    \n",
        "    \n",
        "- **Risk**: 위험 시설 분류 카테고리 : 국민 건강에 악영향을 미칠 위험이 얼마나 높은 시설인가? (1이 가장 높고, 3이 가장 낮은 카테고리임. 위험 1 시설이 검사 빈도가 높은 편이고, 위험 3 시설이 검사 빈도가 낮은 편)\n",
        "\n",
        "- **Address, City, State, Zip**: 해당 시설이 위치한 주소 (Full Address)\n",
        "\n",
        "- **Inspection date**: 검사 날짜. (어떤 사업장은 동일한 사업장명에 각기 다른 검사 날짜를 가지고 있을 수도 있음)\n",
        "\n",
        "- **Inspection type**: 검사 유형. (각 이유에 대해 Re-inspection이 붙으면 재검사한 것)\n",
        "    - Canvass : 시설의 위험도와 관련된 가장 이란적인 유형의 검사. \n",
        "    - Consultation : 개업 전 소유자의 요청으로 검사를 수행.\n",
        "    - Complaint : 민원 사항 발생 시 검사를 수행할 때.\n",
        "    - License : 사업장의 영업허가서 발금 요건으로 검사를 할 때.\n",
        "    - Suspect Food Poisoning : 사업장에서 식사 (민원 처리 된 특정 유형의 검사)로 인해 병에 걸렸다고 주장하는 1인 이상에게 검사를 할 때.\n",
        "    - Task-force Inspection : 술집 또는 주점의 검사가 수행된 경우\n",
        "    \n",
        "- **Inspection Fail**: 검사 결과(불합격 여부)\n",
        "    - 실패를 받는다고 해서 반드시 사업장 면허가 정지되는 것은 아님.\n",
        "    \n",
        "- **Violations**: 위반사항. 위반사항을 지칭하는 고유번호와 위반한 사항 및 시정 요건에 대한 설명이 주어짐."
      ]
    },
    {
      "cell_type": "markdown",
      "id": "317a659c",
      "metadata": {
        "deletable": false,
        "editable": false,
        "id": "317a659c",
        "nbgrader": {
          "cell_type": "markdown",
          "checksum": "2baf983e63c25c7701d1c002ceb81dfa",
          "grade": false,
          "grade_id": "cell-78b3370c9bae8d7c",
          "locked": true,
          "schema_version": 3,
          "solution": false,
          "task": false
        }
      },
      "source": [
        "## 1.1 데이터셋을 파악하기 위한 EDA를 진행하세요.\n",
        "- 아래 기본적인 EDA 과정을 위해 필요한 몇몇 함수들을 완성하세요.\n",
        "- 함수의 기능 및 입출력 형태는 함수 내의 주석을 따르세요.\n",
        "- **아래 EDA 과정만으로는 데이터에 대한 통찰을 얻기에 부족합니다. 추가로 본인만의 EDA 과정을 꼭 수행해 보세요.**"
      ]
    },
    {
      "cell_type": "code",
      "execution_count": 5,
      "id": "9fd4bab4",
      "metadata": {
        "deletable": false,
        "id": "9fd4bab4",
        "nbgrader": {
          "cell_type": "code",
          "checksum": "befe3fdc9607cb8a4c23aa404247badc",
          "grade": false,
          "grade_id": "1-1_feature",
          "locked": false,
          "schema_version": 3,
          "solution": true,
          "task": false
        }
      },
      "outputs": [],
      "source": [
        "def analysis_on_features(df):\n",
        "    \"\"\"\n",
        "    - eda_results라고 하는 새로운 데이터프레임에 아래의 정보들을 담아 반환하세요.\n",
        "        - null_count: 입력 Pandas DataFrame의 column별 결측치의 수\n",
        "        - num_unique_values: 입력 Pandas DataFrame의 unique한 값의 수\n",
        "        - eda_results는 df의 column명을 index로 사용하는 데이터프레임입니다.\n",
        "\n",
        "    - 데이터프레임에 중복되는 row가 있지는 않나요?\n",
        "        - duplicated_rows에 중복되는 row 수를 담아 반환하세요.\n",
        "\n",
        "    \"\"\"\n",
        "    eda_results = pd.DataFrame()\n",
        "    eda_results[\"null_count\"] = None\n",
        "    eda_results[\"num_unique_values\"] = None\n",
        "    duplicated_rows = -1\n",
        "\n",
        "    # YOUR CODE HERE\n",
        "    eda_results = pd.DataFrame()\n",
        "    eda_results[\"null_count\"] = df.isna().sum()\n",
        "    eda_results[\"num_unique_values\"] = df.nunique()\n",
        "    duplicated_rows = df.duplicated().sum()\n",
        "    \n",
        "    # YOUR CODE ENDS HERE\n",
        "\n",
        "    return eda_results, duplicated_rows"
      ]
    },
    {
      "cell_type": "code",
      "execution_count": 6,
      "id": "d91dddb4",
      "metadata": {
        "deletable": false,
        "editable": false,
        "id": "d91dddb4",
        "nbgrader": {
          "cell_type": "code",
          "checksum": "7d23a59e9adf64e5bde344e5780b2384",
          "grade": false,
          "grade_id": "cell-f0a97a28a84cc7b8",
          "locked": true,
          "schema_version": 3,
          "solution": false,
          "task": false
        }
      },
      "outputs": [],
      "source": [
        "train_results, train_duplicated_rows = analysis_on_features(train)\n",
        "test_results, test_duplicated_rows = analysis_on_features(test)"
      ]
    },
    {
      "cell_type": "code",
      "execution_count": 7,
      "id": "6d48003a",
      "metadata": {
        "deletable": false,
        "editable": false,
        "id": "6d48003a",
        "nbgrader": {
          "cell_type": "code",
          "checksum": "b4ffc670980b6aa79fc60e0e850ba149",
          "grade": true,
          "grade_id": "1-1_feature_test",
          "locked": true,
          "points": 1,
          "schema_version": 3,
          "solution": false,
          "task": false
        },
        "colab": {
          "base_uri": "https://localhost:8080/"
        },
        "outputId": "099ee090-92ea-47bd-9f00-4390473c83f9"
      },
      "outputs": [
        {
          "output_type": "stream",
          "name": "stdout",
          "text": [
            "Train df: duplicated? = 0\n",
            "                  null_count  num_unique_values\n",
            "Inspection ID             0              60000\n",
            "DBA Name                  0              20175\n",
            "AKA Name                717              19209\n",
            "License #                 4              25123\n",
            "Facility Type          1427                366\n",
            "Risk                     24                  4\n",
            "Address                   0              15244\n",
            "City                     45                 39\n",
            "State                    15                  3\n",
            "Zip                      13                 86\n",
            "Inspection Date           0               2667\n",
            "Inspection Type           0                 55\n",
            "Violations            15870              44035\n",
            "Latitude                178              14533\n",
            "Longitude               178              14533\n",
            "Location                178              14533\n",
            "Inspection Fail           0                  2 \n",
            "\n",
            "\n",
            "Test df: duplicated? = 0\n",
            "                  null_count  num_unique_values\n",
            "Inspection ID             0              20000\n",
            "DBA Name                  0              11690\n",
            "AKA Name                235              11222\n",
            "License #                 0              13637\n",
            "Facility Type           452                215\n",
            "Risk                      2                  4\n",
            "Address                   0              10357\n",
            "City                     11                 21\n",
            "State                     3                  1\n",
            "Zip                       4                 73\n",
            "Inspection Date           0               2609\n",
            "Inspection Type           0                 33\n",
            "Violations             5336              14654\n",
            "Latitude                 60              10074\n",
            "Longitude                60              10074\n",
            "Location                 60              10074\n",
            "Inspection Fail           0                  2\n"
          ]
        }
      ],
      "source": [
        "print(f\"Train df: duplicated? = {train_duplicated_rows}\\n\", train_results, \"\\n\\n\")\n",
        "print(f\"Test df: duplicated? = {test_duplicated_rows}\\n\", test_results)"
      ]
    },
    {
      "cell_type": "code",
      "execution_count": 8,
      "id": "c49c2c62",
      "metadata": {
        "deletable": false,
        "id": "c49c2c62",
        "nbgrader": {
          "cell_type": "code",
          "checksum": "9cfa61c85aabf052efb56e5224bde132",
          "grade": false,
          "grade_id": "1-1_target",
          "locked": false,
          "schema_version": 3,
          "solution": true,
          "task": false
        }
      },
      "outputs": [],
      "source": [
        "import matplotlib.pyplot as plt\n",
        "\n",
        "\n",
        "def analysis_on_target(df):\n",
        "    \"\"\"\n",
        "    n_zero_label, n_one_label에\n",
        "    각각 label이 0인 데이터의 수, label이 1인 데이터의 수를 담아 반환하세요.\n",
        "    \"\"\"\n",
        "    n_zero_label, n_one_label = -1, -1\n",
        "\n",
        "    # YOUR CODE HERE\n",
        "    n_zero_label, n_one_label = df[\"Inspection Fail\"].value_counts()[0], df[\"Inspection Fail\"].value_counts()[1]\n",
        "    \n",
        "    # YOUR CODE ENDS HERE\n",
        "\n",
        "    plt.pie(\n",
        "        (n_zero_label, n_one_label),\n",
        "        labels=(0, 1),\n",
        "        autopct=\"%.2f%%\",\n",
        "        shadow=True,\n",
        "        startangle=90,\n",
        "    )\n",
        "    plt.title(\"Target: Inspection Fail\", size=15)\n",
        "    plt.show()\n",
        "\n",
        "    return n_zero_label, n_one_label"
      ]
    },
    {
      "cell_type": "code",
      "execution_count": 9,
      "id": "10749633",
      "metadata": {
        "deletable": false,
        "editable": false,
        "id": "10749633",
        "nbgrader": {
          "cell_type": "code",
          "checksum": "f69ff1fa2d973de521389cb378afe6cc",
          "grade": true,
          "grade_id": "1-1_target_test",
          "locked": true,
          "points": 0.5,
          "schema_version": 3,
          "solution": false,
          "task": false
        },
        "colab": {
          "base_uri": "https://localhost:8080/",
          "height": 843
        },
        "outputId": "7b396ece-7486-408c-cc0d-920e4175b2e1"
      },
      "outputs": [
        {
          "output_type": "display_data",
          "data": {
            "text/plain": [
              "<Figure size 640x480 with 1 Axes>"
            ],
            "image/png": "[encoded data removed]"
          },
          "metadata": {}
        },
        {
          "output_type": "display_data",
          "data": {
            "text/plain": [
              "<Figure size 640x480 with 1 Axes>"
            ],
            "image/png": "[encoded data removed]"
          },
          "metadata": {}
        }
      ],
      "source": [
        "train_label_count = analysis_on_target(train)\n",
        "test_label_count = analysis_on_target(test)"
      ]
    },
    {
      "cell_type": "code",
      "execution_count": 10,
      "id": "89890e8d",
      "metadata": {
        "deletable": false,
        "editable": false,
        "id": "89890e8d",
        "nbgrader": {
          "cell_type": "code",
          "checksum": "2a594e1d9691d201063cdb75efda797a",
          "grade": false,
          "grade_id": "cell-838a2646713d5494",
          "locked": true,
          "schema_version": 3,
          "solution": false,
          "task": false
        },
        "colab": {
          "base_uri": "https://localhost:8080/"
        },
        "outputId": "e3b51470-1274-4672-a1ea-2819a07be394"
      },
      "outputs": [
        {
          "output_type": "stream",
          "name": "stdout",
          "text": [
            "\n",
            "이 셀에서 추가로 데이터를 자유롭게 분석해 보세요.\n",
            "- 이 셀에서의 작업은 채점하지 않습니다.\n",
            "- 채점 시 이 셀에서 작업한 내용은 전부 무시됩니다.\n",
            "- 제출 전에 이 셀의 내용을 모두 주석 처리한 후 모든 코드가 순차적으로 오류 없이 실행되는지 꼭 확인하세요.\n",
            "\n"
          ]
        }
      ],
      "source": [
        "print(\n",
        "    \"\"\"\n",
        "이 셀에서 추가로 데이터를 자유롭게 분석해 보세요.\n",
        "- 이 셀에서의 작업은 채점하지 않습니다.\n",
        "- 채점 시 이 셀에서 작업한 내용은 전부 무시됩니다.\n",
        "- 제출 전에 이 셀의 내용을 모두 주석 처리한 후 모든 코드가 순차적으로 오류 없이 실행되는지 꼭 확인하세요.\n",
        "\"\"\"\n",
        ")"
      ]
    },
    {
      "cell_type": "markdown",
      "id": "4b7abb2a",
      "metadata": {
        "deletable": false,
        "editable": false,
        "id": "4b7abb2a",
        "nbgrader": {
          "cell_type": "markdown",
          "checksum": "5f699e416f26337ba663e827d8c732a4",
          "grade": false,
          "grade_id": "cell-379b9354bac4ee0b",
          "locked": true,
          "schema_version": 3,
          "solution": false,
          "task": false
        }
      },
      "source": [
        "## 1.2 EDA의 결과를 토대로 Feature Engineering 및 Preprocessing을 수행하는 함수 `eda_process`를 작성하세요.\n",
        "\n",
        "- 결측치를 적절히 처리하세요.\n",
        "    - **Row를 drop하지 말고, 적절한 값으로 채워넣어 보세요.**\n",
        "    - 전처리가 완료된 train, test 데이터의 크기는 각각 **59947, 19994**입니다.\n",
        "- 새로운 feature를 만드는 작업뿐만이 아니라, 필요한 feature가 적절한 데이터 타입을 가지고 있지 않다면 변환합니다.\n",
        "- 시간 배분을 고려하여 적절한 수준으로 수행하세요!"
      ]
    },
    {
      "cell_type": "code",
      "execution_count": 11,
      "id": "0db6ee42",
      "metadata": {
        "deletable": false,
        "id": "0db6ee42",
        "nbgrader": {
          "cell_type": "code",
          "checksum": "fbdd1e318546f5ded4a4de13110416f4",
          "grade": false,
          "grade_id": "1-2",
          "locked": false,
          "schema_version": 3,
          "solution": true,
          "task": false
        }
      },
      "outputs": [],
      "source": [
        "# import any libraries needed\n",
        "# YOUR CODE HERE\n",
        "from sklearn.impute import SimpleImputer\n",
        "\n",
        "# YOUR CODE ENDS HERE\n",
        "\n",
        "\n",
        "def eda_process(df):\n",
        "    # State 컬럼 처리 : 결측치 및 IL이 아닌 row 삭제\n",
        "    df.dropna(subset=[\"State\"], how=\"any\", axis=0, inplace=True)\n",
        "    df = df.query(\"State == 'IL'\")\n",
        "\n",
        "    # Risk : 결측치 및 All 삭제 > 1, 2, 3으로 바꾸어 줌\n",
        "    df.dropna(subset=[\"Risk\"], how=\"any\", axis=0, inplace=True)\n",
        "    df = df.query(\"Risk != 'All'\")\n",
        "    df.replace(\"Risk 1 (High)\", 1, inplace=True)\n",
        "    df.replace(\"Risk 2 (Medium)\", 2, inplace=True)\n",
        "    df.replace(\"Risk 3 (Low)\", 3, inplace=True)\n",
        "\n",
        "    # YOUR CODE HERE\n",
        "    # State 컬럼 처리 : 결측치 및 IL이 아닌 row 삭제\n",
        "    df.dropna(subset=[\"State\"], how=\"any\", axis=0, inplace=True)\n",
        "    df = df.query(\"State == 'IL'\")\n",
        "\n",
        "    # Risk : 결측치 및 All 삭제 > 1, 2, 3으로 바꾸어 줌\n",
        "    df.dropna(subset=[\"Risk\"], how=\"any\", axis=0, inplace=True)\n",
        "    df = df.query(\"Risk != 'All'\")\n",
        "    df.replace(\"Risk 1 (High)\", 1, inplace=True)\n",
        "    df.replace(\"Risk 2 (Medium)\", 2, inplace=True)\n",
        "    df.replace(\"Risk 3 (Low)\", 3, inplace=True)\n",
        "\n",
        "    # 컬럼들 삭제\n",
        "    dropc = ['Violations', 'City','Inspection ID', 'AKA Name', 'Latitude', 'Longitude', 'Address', 'Location', 'DBA Name' ]\n",
        "    df.drop(dropc, axis = 1, inplace=True)\n",
        "    \n",
        "    # YOUR CODE ENDS HERE\n",
        "\n",
        "    return df"
      ]
    },
    {
      "cell_type": "code",
      "execution_count": 12,
      "id": "e90106c9",
      "metadata": {
        "deletable": false,
        "editable": false,
        "id": "e90106c9",
        "nbgrader": {
          "cell_type": "code",
          "checksum": "c7156e0a4a76317407b3e2639f700b59",
          "grade": true,
          "grade_id": "1-2_test",
          "locked": true,
          "points": 1,
          "schema_version": 3,
          "solution": false,
          "task": false
        },
        "colab": {
          "base_uri": "https://localhost:8080/"
        },
        "outputId": "c416b606-c2b6-4004-bd44-56fa1cc1ecea"
      },
      "outputs": [
        {
          "output_type": "stream",
          "name": "stdout",
          "text": [
            "(59947, 8) (19994, 8)\n"
          ]
        }
      ],
      "source": [
        "train_processed = eda_process(train.copy())\n",
        "test_processed = eda_process(test.copy())\n",
        "print(train_processed.shape, test_processed.shape)\n",
        "assert len(train_processed) == 59947, \"train data 전처리가 잘못되었습니다. 조건을 다시 확인하세요.\"\n",
        "assert len(test_processed) == 19994, \"test data 전처리가 잘못되었습니다. 조건을 다시 확인하세요.\""
      ]
    },
    {
      "cell_type": "markdown",
      "id": "d37ba45b",
      "metadata": {
        "deletable": false,
        "editable": false,
        "id": "d37ba45b",
        "nbgrader": {
          "cell_type": "markdown",
          "checksum": "137f3fecacaac450cc5af267124bc4ae",
          "grade": false,
          "grade_id": "cell-830432dc10ec8364",
          "locked": true,
          "schema_version": 3,
          "solution": false,
          "task": false
        }
      },
      "source": [
        "### 전처리 후 target 분포의 변화를 다시 확인해 보세요."
      ]
    },
    {
      "cell_type": "code",
      "execution_count": 13,
      "id": "1442e4a1",
      "metadata": {
        "deletable": false,
        "editable": false,
        "id": "1442e4a1",
        "nbgrader": {
          "cell_type": "code",
          "checksum": "0a1c5c3bce03dfc07374c687f70aa58a",
          "grade": false,
          "grade_id": "cell-3992c9dc381419fe",
          "locked": true,
          "schema_version": 3,
          "solution": false,
          "task": false
        },
        "colab": {
          "base_uri": "https://localhost:8080/",
          "height": 860
        },
        "outputId": "7defc217-a14e-422d-e922-9cd2118ea4dc"
      },
      "outputs": [
        {
          "output_type": "display_data",
          "data": {
            "text/plain": [
              "<Figure size 640x480 with 1 Axes>"
            ],
            "image/png": "[encoded data removed]"
          },
          "metadata": {}
        },
        {
          "output_type": "display_data",
          "data": {
            "text/plain": [
              "<Figure size 640x480 with 1 Axes>"
            ],
            "image/png": "[encoded data removed]"
          },
          "metadata": {}
        },
        {
          "output_type": "execute_result",
          "data": {
            "text/plain": [
              "(16096, 3898)"
            ]
          },
          "metadata": {},
          "execution_count": 13
        }
      ],
      "source": [
        "analysis_on_target(train_processed)\n",
        "analysis_on_target(test_processed)"
      ]
    },
    {
      "cell_type": "markdown",
      "id": "90c22148",
      "metadata": {
        "deletable": false,
        "editable": false,
        "id": "90c22148",
        "nbgrader": {
          "cell_type": "markdown",
          "checksum": "ff9d65d617880cdb3915f9d7530b4b35",
          "grade": false,
          "grade_id": "cell-061f9cf27e568eae",
          "locked": true,
          "schema_version": 3,
          "solution": false,
          "task": false
        }
      },
      "source": [
        "# Part 2 - Modeling"
      ]
    },
    {
      "cell_type": "markdown",
      "id": "a003f3e1",
      "metadata": {
        "deletable": false,
        "editable": false,
        "id": "a003f3e1",
        "nbgrader": {
          "cell_type": "markdown",
          "checksum": "db2ed4c110814a19df1426a9c2e007c6",
          "grade": false,
          "grade_id": "cell-74769ab837a16066",
          "locked": true,
          "schema_version": 3,
          "solution": false,
          "task": false
        }
      },
      "source": [
        "## 2.1 데이터를 feature (X), label(y)로 분할하는 `divide_data` 함수를 작성하세요.\n",
        "- Target Column은 `Inspection Fail`입니다."
      ]
    },
    {
      "cell_type": "code",
      "execution_count": 14,
      "id": "a85431a9",
      "metadata": {
        "deletable": false,
        "id": "a85431a9",
        "nbgrader": {
          "cell_type": "code",
          "checksum": "755c04f081e54ada5549c1677d6b100b",
          "grade": false,
          "grade_id": "2-1",
          "locked": false,
          "schema_version": 3,
          "solution": true,
          "task": false
        }
      },
      "outputs": [],
      "source": [
        "def divide_data(df):\n",
        "    X = None\n",
        "    y = None\n",
        "\n",
        "    # YOUR CODE HERE\n",
        "    target = 'Inspection Fail'\n",
        "    X = df.drop(target,axis=1)\n",
        "    y = df[target]\n",
        "    \n",
        "    # YOUR CODE ENDS HERE\n",
        "\n",
        "    return X, y"
      ]
    },
    {
      "cell_type": "code",
      "execution_count": 15,
      "id": "20ec9b5d",
      "metadata": {
        "deletable": false,
        "editable": false,
        "id": "20ec9b5d",
        "nbgrader": {
          "cell_type": "code",
          "checksum": "a97ad7c4d40a86a0201b92d5cc5b6f4f",
          "grade": true,
          "grade_id": "2-1_test",
          "locked": true,
          "points": 0.5,
          "schema_version": 3,
          "solution": false,
          "task": false
        },
        "colab": {
          "base_uri": "https://localhost:8080/"
        },
        "outputId": "ae4c6eaa-bf01-48bc-fd34-329d183465be"
      },
      "outputs": [
        {
          "output_type": "stream",
          "name": "stdout",
          "text": [
            "(59947, 7) (59947,) (19994, 7) (19994,)\n"
          ]
        }
      ],
      "source": [
        "X_train, y_train = divide_data(train_processed)\n",
        "X_test, y_test = divide_data(test_processed)\n",
        "print(X_train.shape, y_train.shape, X_test.shape, y_test.shape)"
      ]
    },
    {
      "cell_type": "markdown",
      "id": "819f167c",
      "metadata": {
        "deletable": false,
        "editable": false,
        "id": "819f167c",
        "nbgrader": {
          "cell_type": "markdown",
          "checksum": "222a30b74d9dd788a4a324959cd08ccb",
          "grade": false,
          "grade_id": "cell-f54c8204c1a466c0",
          "locked": true,
          "schema_version": 3,
          "solution": false,
          "task": false
        }
      },
      "source": [
        "## 2.2 모델을 생성하고 학습하는 `fit` 함수와 1일 확률을 반환하는 `predict` 함수를 작성하세요. \n",
        "- Scikit-learn의 `pipeline`을 활용하여 학습 파이프라인을 생성하세요.\n",
        "- Boosting 모델을 사용하고자 할 경우 XGBoost를 사용하세요.\n",
        "- `RandomizedSearchCV`를 사용해 CV를 진행하세요.\n",
        "    - 적어도 두 개 이상의 하이퍼파라미터에 대해 탐색을 진행하세요.\n",
        "    - **\bAUC score를 최대화하는 하이퍼파라미터 조합을 선택하세요.**\n",
        "- cv는 5 이하, n_iter은 10회 이하로 하세요."
      ]
    },
    {
      "cell_type": "code",
      "execution_count": 16,
      "id": "5299948c",
      "metadata": {
        "deletable": false,
        "id": "5299948c",
        "nbgrader": {
          "cell_type": "code",
          "checksum": "a211d7a12373a64339a18eb89622150f",
          "grade": false,
          "grade_id": "2-2",
          "locked": false,
          "schema_version": 3,
          "solution": true,
          "task": false
        }
      },
      "outputs": [],
      "source": [
        "from sklearn.model_selection import RandomizedSearchCV\n",
        "from sklearn.pipeline import make_pipeline\n",
        "from sklearn.metrics import classification_report\n",
        "\n",
        "# import any libraries needed\n",
        "# YOUR CODE HERE\n",
        "import numpy as np\n",
        "\n",
        "\n",
        "# YOUR CODE ENDS HERE\n",
        "from xgboost import XGBClassifier\n",
        "from category_encoders import OrdinalEncoder\n",
        "\n",
        "def fit(X_train, y_train):\n",
        "    pipeline = None  # pipeline = make_pipeline(...)\n",
        "    clf = None  # clf = RandomizedSearchCV(pipeline, ...)\n",
        "\n",
        "    # YOUR CODE HERE\n",
        "    pipeline = make_pipeline(\n",
        "            OrdinalEncoder(),\n",
        "            XGBClassifier(random_state=42))\n",
        "    params_xgb = {\n",
        "    \"xgbclassifier__max_depth\": [4,5,6],\n",
        "    \"xgbclassifier__min_child_weight\": [3,4],\n",
        "    \"xgbclassifier__learning_rate\": [0.1, 0.2, 0.3]\n",
        "    }\n",
        "\n",
        "    clf =  RandomizedSearchCV(pipeline, params_xgb, scoring='roc_auc', cv = 3, n_iter = 5, verbose = 2)\n",
        "    \n",
        "    # YOUR CODE ENDS HERE\n",
        "\n",
        "    clf.fit(X_train, y_train)\n",
        "    print(\"Optimal Hyperparameter:\", clf.best_params_)\n",
        "    print(\"AUC:\", clf.best_score_)\n",
        "\n",
        "    return clf\n",
        "\n",
        "\n",
        "def predict(X, y, best_estimator):\n",
        "    y_pred_proba = None\n",
        "\n",
        "    # YOUR CODE HERE\n",
        "    y_pred_proba = best_estimator.predict(X)\n",
        "    \n",
        "    # YOUR CODE ENDS HERE\n",
        "\n",
        "    report = classification_report(y, y_pred_proba > 0.5)\n",
        "    return y_pred_proba, report"
      ]
    },
    {
      "cell_type": "code",
      "execution_count": 17,
      "id": "07f646a3",
      "metadata": {
        "deletable": false,
        "editable": false,
        "id": "07f646a3",
        "nbgrader": {
          "cell_type": "code",
          "checksum": "1f09695262cb4bc5f54de07fa74b6f34",
          "grade": false,
          "grade_id": "cell-train",
          "locked": true,
          "schema_version": 3,
          "solution": false,
          "task": false
        },
        "colab": {
          "base_uri": "https://localhost:8080/"
        },
        "outputId": "04f170ed-78a6-46cd-ceb0-7451292f3b71"
      },
      "outputs": [
        {
          "output_type": "stream",
          "name": "stdout",
          "text": [
            "Fitting 3 folds for each of 5 candidates, totalling 15 fits\n",
            "[CV] END xgbclassifier__learning_rate=0.3, xgbclassifier__max_depth=6, xgbclassifier__min_child_weight=3; total time=   7.2s\n",
            "[CV] END xgbclassifier__learning_rate=0.3, xgbclassifier__max_depth=6, xgbclassifier__min_child_weight=3; total time=  17.5s\n",
            "[CV] END xgbclassifier__learning_rate=0.3, xgbclassifier__max_depth=6, xgbclassifier__min_child_weight=3; total time=   4.3s\n",
            "[CV] END xgbclassifier__learning_rate=0.1, xgbclassifier__max_depth=5, xgbclassifier__min_child_weight=3; total time=   2.3s\n",
            "[CV] END xgbclassifier__learning_rate=0.1, xgbclassifier__max_depth=5, xgbclassifier__min_child_weight=3; total time=   2.3s\n",
            "[CV] END xgbclassifier__learning_rate=0.1, xgbclassifier__max_depth=5, xgbclassifier__min_child_weight=3; total time=   2.4s\n",
            "[CV] END xgbclassifier__learning_rate=0.1, xgbclassifier__max_depth=4, xgbclassifier__min_child_weight=4; total time=   1.8s\n",
            "[CV] END xgbclassifier__learning_rate=0.1, xgbclassifier__max_depth=4, xgbclassifier__min_child_weight=4; total time=   3.5s\n",
            "[CV] END xgbclassifier__learning_rate=0.1, xgbclassifier__max_depth=4, xgbclassifier__min_child_weight=4; total time=   1.9s\n",
            "[CV] END xgbclassifier__learning_rate=0.2, xgbclassifier__max_depth=4, xgbclassifier__min_child_weight=3; total time=   1.8s\n",
            "[CV] END xgbclassifier__learning_rate=0.2, xgbclassifier__max_depth=4, xgbclassifier__min_child_weight=3; total time=   1.8s\n",
            "[CV] END xgbclassifier__learning_rate=0.2, xgbclassifier__max_depth=4, xgbclassifier__min_child_weight=3; total time=   1.9s\n",
            "[CV] END xgbclassifier__learning_rate=0.2, xgbclassifier__max_depth=6, xgbclassifier__min_child_weight=4; total time=   4.4s\n",
            "[CV] END xgbclassifier__learning_rate=0.2, xgbclassifier__max_depth=6, xgbclassifier__min_child_weight=4; total time=   2.7s\n",
            "[CV] END xgbclassifier__learning_rate=0.2, xgbclassifier__max_depth=6, xgbclassifier__min_child_weight=4; total time=   2.8s\n",
            "Optimal Hyperparameter: {'xgbclassifier__min_child_weight': 3, 'xgbclassifier__max_depth': 5, 'xgbclassifier__learning_rate': 0.1}\n",
            "AUC: 0.6836970509534467\n"
          ]
        }
      ],
      "source": [
        "clf = fit(X_train, y_train)"
      ]
    },
    {
      "cell_type": "markdown",
      "id": "5f8bd689",
      "metadata": {
        "id": "5f8bd689"
      },
      "source": [
        "### 아래 셀을 실행시켜 모델의 Test score을 확인해 보세요.\n",
        "- auc_score > 0.65을 만족하면 기본 성능점수를 얻습니다.\n",
        "- (도전과제) auc_score > 0.75을 만족하면 성능점수 만점을 얻습니다.\n",
        "    - 도전과제까지 수행해야 스챌 3점을 얻습니다. \n",
        "    - 1.2으로 돌아가 다양한 특성 조합을 시도해 보세요. \n",
        "    - 2.2로 돌아가 SearchCV에서 다양한 하이퍼파라미터 옵션 조합을 선택해 보세요.\n",
        "        - 본인이 선택한 모델에서, 각 하이퍼파라미터가 어떤 의미를 가지나요?\n",
        "        - SearchCV가 더 다양한 하이퍼파라미터 조합을 시도하도록 하기 위해 SearchCV의 어떤 옵션을 조정해야 할까요?"
      ]
    },
    {
      "cell_type": "code",
      "execution_count": 18,
      "id": "89861706",
      "metadata": {
        "deletable": false,
        "editable": false,
        "id": "89861706",
        "nbgrader": {
          "cell_type": "code",
          "checksum": "a54fe57658ba1c12ddb13a9336b63653",
          "grade": false,
          "grade_id": "cell-get_auc",
          "locked": true,
          "schema_version": 3,
          "solution": false,
          "task": false
        },
        "colab": {
          "base_uri": "https://localhost:8080/",
          "height": 633
        },
        "outputId": "74a43d9d-a7e3-4a6f-8961-548b0fe639f4"
      },
      "outputs": [
        {
          "output_type": "stream",
          "name": "stdout",
          "text": [
            "              precision    recall  f1-score   support\n",
            "\n",
            "           0       0.81      0.99      0.89     16096\n",
            "           1       0.65      0.07      0.12      3898\n",
            "\n",
            "    accuracy                           0.81     19994\n",
            "   macro avg       0.73      0.53      0.51     19994\n",
            "weighted avg       0.78      0.81      0.74     19994\n",
            "\n"
          ]
        },
        {
          "output_type": "display_data",
          "data": {
            "text/plain": [
              "<Figure size 640x480 with 1 Axes>"
            ],
            "image/png": "[encoded data removed]"
          },
          "metadata": {}
        }
      ],
      "source": [
        "from sklearn.metrics import roc_curve, roc_auc_score\n",
        "\n",
        "\n",
        "def plot_roc(y, y_pred_proba):\n",
        "    auc_score = roc_auc_score(y, y_pred_proba)\n",
        "    fpr, tpr, _ = roc_curve(y, y_pred_proba)\n",
        "    baseline_fpr, baseline_tpr, _ = roc_curve(y, [0] * len(y))\n",
        "\n",
        "    plt.style.use(\"ggplot\")\n",
        "    plt.plot(fpr, tpr, label=\"Model\")\n",
        "    plt.plot(baseline_fpr, baseline_tpr, linestyle=\"--\", label=\"Baseline\")\n",
        "    plt.xlabel(\"False Positive Rate\", size=12)\n",
        "    plt.ylabel(\"True Positive Rate\", size=12)\n",
        "    plt.title(\"Receiver Operating Characteristic\")\n",
        "    plt.legend(prop={\"size\": 12})\n",
        "    plt.show()\n",
        "    return auc_score\n",
        "\n",
        "\n",
        "y_test_pred_proba, report = predict(X_test, y_test, clf.best_estimator_)\n",
        "print(report)\n",
        "auc_score = plot_roc(y_test, y_test_pred_proba)"
      ]
    },
    {
      "cell_type": "code",
      "execution_count": 19,
      "id": "539e38c1",
      "metadata": {
        "deletable": false,
        "editable": false,
        "id": "539e38c1",
        "nbgrader": {
          "cell_type": "code",
          "checksum": "49a79adcd2c92191781e896457288885",
          "grade": true,
          "grade_id": "2-2_test_performance",
          "locked": true,
          "points": 1,
          "schema_version": 3,
          "solution": false,
          "task": false
        },
        "colab": {
          "base_uri": "https://localhost:8080/"
        },
        "outputId": "c6848831-2cf1-4c74-c0a2-c64fd204b783"
      },
      "outputs": [
        {
          "output_type": "stream",
          "name": "stdout",
          "text": [
            "Test AUC: 0.5294214223382129\n"
          ]
        }
      ],
      "source": [
        "print(\"Test AUC:\", auc_score)"
      ]
    },
    {
      "cell_type": "code",
      "execution_count": 20,
      "id": "f769485e",
      "metadata": {
        "deletable": false,
        "editable": false,
        "id": "f769485e",
        "nbgrader": {
          "cell_type": "code",
          "checksum": "1afd1cfb8f532f96464b7da4da8f2ecc",
          "grade": true,
          "grade_id": "challenge_2-3_test",
          "locked": true,
          "points": 1,
          "schema_version": 3,
          "solution": false,
          "task": false
        },
        "colab": {
          "base_uri": "https://localhost:8080/"
        },
        "outputId": "4e497eab-0204-4216-c244-242657567ff2"
      },
      "outputs": [
        {
          "output_type": "stream",
          "name": "stdout",
          "text": [
            "Test AUC > 0.75?: False\n"
          ]
        }
      ],
      "source": [
        "print(\"Test AUC > 0.75?:\", auc_score > 0.75)"
      ]
    },
    {
      "cell_type": "markdown",
      "id": "e6cb7e41",
      "metadata": {
        "deletable": false,
        "editable": false,
        "id": "e6cb7e41",
        "nbgrader": {
          "cell_type": "markdown",
          "checksum": "ca785473ae0459c3d5c2267f928eabac",
          "grade": false,
          "grade_id": "cell-0b8a22eeb09a60ef",
          "locked": true,
          "schema_version": 3,
          "solution": false,
          "task": false
        }
      },
      "source": [
        "# Part 3 - Visualization\n",
        "- `eli5`의 `PermutationImportance`, `pdpbox` 등의 라이브러리에서는 이미 전처리가 완료되어 수치형 자료로 변환된 독립변수들을 입력으로 받습니다.\n",
        "- 따라서, 2.2에서 생성한 pipeline을 **전처리를 위한 부분**과 **예측 모델**로 나눠 주어야 합니다.\n",
        "    - 전처리를 위한 부분을 거친 후에는 모든 특성들이 수치형이어야 합니다. \n",
        "- 아래 셀에서 해당 과정을 수행해 주세요.\n",
        "    1. `pipeline`을 `preprocess_pipeline`과 `model`로 나눠 주세요.\n",
        "    2. `preprocess_pipeline`으로 `X_test`를 transform하여 `X_test_preprocessed`를 생성하세요."
      ]
    },
    {
      "cell_type": "code",
      "execution_count": 21,
      "id": "6013dab3",
      "metadata": {
        "deletable": false,
        "id": "6013dab3",
        "nbgrader": {
          "cell_type": "code",
          "checksum": "29601a5ad69784a420bdd3d864156ebb",
          "grade": false,
          "grade_id": "p3_preprocess",
          "locked": false,
          "schema_version": 3,
          "solution": true,
          "task": false
        }
      },
      "outputs": [],
      "source": [
        "pipeline = clf.best_estimator_\n",
        "\n",
        "# TODO: pipeline을 preprocess_pipeline과 model로 나눠 주세요.\n",
        "preprocess_pipeline = None\n",
        "model = None\n",
        "# YOUR CODE HERE\n",
        "preprocess_pipeline = clf.best_estimator_[0]\n",
        "model = clf.best_estimator_[1]\n",
        "\n",
        "# YOUR CODE ENDS HERE\n",
        "\n",
        "# TODO: X_test를 preprocess_pipeline에 통과시켜 X_test_preprocessed를 만드세요.\n",
        "X_test_preprocessed = None\n",
        "# YOUR CODE HERE\n",
        "X_test_preprocessed = preprocess_pipeline.transform(X_test)\n",
        "\n",
        "# YOUR CODE ENDS HERE"
      ]
    },
    {
      "cell_type": "markdown",
      "id": "762689a6",
      "metadata": {
        "deletable": false,
        "editable": false,
        "id": "762689a6",
        "nbgrader": {
          "cell_type": "markdown",
          "checksum": "fbe0d092dbf107a876b469ef12567988",
          "grade": false,
          "grade_id": "cell-82752ac26d440f73",
          "locked": true,
          "schema_version": 3,
          "solution": false,
          "task": false
        }
      },
      "source": [
        "## 3.1 Permutation Importance를 계산하는 `get_permutation_importance` 함수를 작성하세요.\n",
        "- AUC score을 기준으로 Permutation Importance를 계산하는 permuter을 생성, fit하여 반환하세요.\n",
        "- `n_iter=5`로 하세요."
      ]
    },
    {
      "cell_type": "code",
      "execution_count": 22,
      "id": "c2bba75f",
      "metadata": {
        "deletable": false,
        "id": "c2bba75f",
        "nbgrader": {
          "cell_type": "code",
          "checksum": "f677aec29eb277e214c999f8f47622d6",
          "grade": false,
          "grade_id": "3-1",
          "locked": false,
          "schema_version": 3,
          "solution": true,
          "task": false
        }
      },
      "outputs": [],
      "source": [
        "import eli5\n",
        "from eli5.sklearn import PermutationImportance\n",
        "\n",
        "\n",
        "def get_permutation_importance(X, y, model):\n",
        "    permuter = None\n",
        "    # permuter = PermutationImportance(..., n_iter=5, random_state=42)\n",
        "\n",
        "    # YOUR CODE HERE\n",
        "    permuter = PermutationImportance(model, scoring=\"roc_auc\", n_iter=5, random_state=42)\n",
        "    \n",
        "    # YOUR CODE ENDS HERE\n",
        "    permuter.fit(X, y)\n",
        "\n",
        "    return permuter"
      ]
    },
    {
      "cell_type": "code",
      "execution_count": 23,
      "id": "55f96610",
      "metadata": {
        "deletable": false,
        "editable": false,
        "id": "55f96610",
        "nbgrader": {
          "cell_type": "code",
          "checksum": "82d2aed0210bf3dcdacd74d21f77ef9f",
          "grade": true,
          "grade_id": "3-1_test_code",
          "locked": true,
          "points": 1,
          "schema_version": 3,
          "solution": false,
          "task": false
        },
        "colab": {
          "base_uri": "https://localhost:8080/"
        },
        "outputId": "df5f340e-7910-4015-887a-193c538ec9c8"
      },
      "outputs": [
        {
          "output_type": "stream",
          "name": "stdout",
          "text": [
            "Top3 Important Features:\n",
            "[('Inspection Type', 0.15518950018462851), ('Zip', 0.024774225350819655), ('License #', 0.019109764195738843)]\n"
          ]
        }
      ],
      "source": [
        "permuter = get_permutation_importance(X_test_preprocessed, y_test, model)\n",
        "eli5.show_weights(permuter, top=None, feature_names=X_test.columns.tolist())\n",
        "print(\"Top3 Important Features:\")\n",
        "p_i = sorted(\n",
        "    list(zip(X_test.columns.tolist(), permuter.feature_importances_)),\n",
        "    key=lambda x: x[1],\n",
        "    reverse=True,\n",
        ")\n",
        "print(p_i[:3])"
      ]
    },
    {
      "cell_type": "markdown",
      "id": "2d609bf4",
      "metadata": {
        "deletable": false,
        "editable": false,
        "id": "2d609bf4",
        "nbgrader": {
          "cell_type": "markdown",
          "checksum": "5895e2154415d2582e62c49e1b573ded",
          "grade": false,
          "grade_id": "cell-fb46bd888a7b07fa",
          "locked": true,
          "schema_version": 3,
          "solution": false,
          "task": false
        }
      },
      "source": [
        "### 위 결과를 기반으로, 아래의 질문에 답해 보세요. \n",
        "- 확인할 수 없으면 `\"모름\"`으로 답하세요.\n",
        "- 답이 하나이면 `String`, 여러 개이면 `List`로 답하세요.\n",
        "\n",
        "\n",
        "- **문제 1.** 모델의 성능에 가장 많은 영향을 주는 특성은 무엇인가요?\n",
        "- **문제 2.** 모델의 예측값과 양의 상관관계를 갖는 특성은 무엇인가요?\n",
        "- **문제 3.** 모델의 예측값과 음의 상관관계를 갖는 특성은 무엇인가요?\n"
      ]
    },
    {
      "cell_type": "code",
      "execution_count": 24,
      "id": "2512abd9",
      "metadata": {
        "deletable": false,
        "id": "2512abd9",
        "nbgrader": {
          "cell_type": "code",
          "checksum": "c5c72fbc887b7dc1726a0e7ec9f1237a",
          "grade": false,
          "grade_id": "3-1_interpretation",
          "locked": false,
          "schema_version": 3,
          "solution": true,
          "task": false
        }
      },
      "outputs": [],
      "source": [
        "answer_1 = None\n",
        "answer_2 = None\n",
        "answer_3 = None\n",
        "\n",
        "# YOUR CODE HERE\n",
        "answer_1 = \"Inspection Type\"\n",
        "answer_2 = '모름'\n",
        "answer_3 = '모름'\n",
        "\n",
        "# YOUR CODE ENDS HERE"
      ]
    },
    {
      "cell_type": "code",
      "execution_count": 25,
      "id": "c1ad3372",
      "metadata": {
        "deletable": false,
        "editable": false,
        "id": "c1ad3372",
        "nbgrader": {
          "cell_type": "code",
          "checksum": "0688166f61a756b36fed3e843766b45b",
          "grade": true,
          "grade_id": "3-1_test_interpretation",
          "locked": true,
          "points": 1,
          "schema_version": 3,
          "solution": false,
          "task": false
        },
        "colab": {
          "base_uri": "https://localhost:8080/"
        },
        "outputId": "3bf82f8d-0289-4201-b882-627720c44d2a"
      },
      "outputs": [
        {
          "output_type": "stream",
          "name": "stdout",
          "text": [
            "A1: Inspection Type\n",
            "A2: 모름\n",
            "A3: 모름름\n"
          ]
        }
      ],
      "source": [
        "print(\"A1:\", answer_1)\n",
        "print(\"A2:\", answer_2)\n",
        "print(\"A3:\", answer_3)\n"
      ]
    },
    {
      "cell_type": "markdown",
      "id": "1d422067",
      "metadata": {
        "deletable": false,
        "editable": false,
        "id": "1d422067",
        "nbgrader": {
          "cell_type": "markdown",
          "checksum": "726845d7b5fd3d8ad11e30d2fbe5e6fd",
          "grade": false,
          "grade_id": "cell-9210d46ba9b06c13",
          "locked": true,
          "schema_version": 3,
          "solution": false,
          "task": false
        }
      },
      "source": [
        "## 3.2 1변수 PDP를 생성하는 `get_pdp_isolated` 함수를 작성하세요.\n",
        "- `feature`의 특성을 변수로 하는 1변수 PDP를 생성합니다."
      ]
    },
    {
      "cell_type": "code",
      "execution_count": 59,
      "id": "fbaed864",
      "metadata": {
        "deletable": false,
        "id": "fbaed864",
        "nbgrader": {
          "cell_type": "code",
          "checksum": "0b3cfb5e55690b59ab816e776ed87321",
          "grade": false,
          "grade_id": "3-2",
          "locked": false,
          "schema_version": 3,
          "solution": true,
          "task": false
        }
      },
      "outputs": [],
      "source": [
        "from pdpbox.pdp import pdp_isolate, pdp_plot\n",
        "\n",
        "\n",
        "def get_pdp_isolated(dataset, model, feature):\n",
        "    pdp_isolated = None\n",
        "\n",
        "    # YOUR CODE HERE\n",
        "      \n",
        "    pdp_isolated = pdp_isolate(\n",
        "    model=model,\n",
        "    dataset=dataset,\n",
        "    model_features=dataset.columns,\n",
        "    feature=feature,\n",
        "    grid_type=\"percentile\",  # default = 'percentile', or 'equal'\n",
        "    num_grid_points=10,  # default = 10\n",
        "    )\n",
        "    \n",
        "    # YOUR CODE ENDS HERE\n",
        "\n",
        "    return pdp_isolated"
      ]
    },
    {
      "cell_type": "code",
      "execution_count": 60,
      "id": "4938e383",
      "metadata": {
        "deletable": false,
        "editable": false,
        "id": "4938e383",
        "nbgrader": {
          "cell_type": "code",
          "checksum": "6cf27ae4202841b1f2b901ef4e3ae200",
          "grade": true,
          "grade_id": "3-2_test_code",
          "locked": true,
          "points": 1,
          "schema_version": 3,
          "solution": false,
          "task": false
        },
        "colab": {
          "base_uri": "https://localhost:8080/",
          "height": 1000
        },
        "outputId": "cba6d17f-4630-4592-fb99-e26a333e0c5f"
      },
      "outputs": [
        {
          "output_type": "execute_result",
          "data": {
            "text/plain": [
              "(<Figure size 1500x950 with 2 Axes>,\n",
              " {'title_ax': <Axes: >, 'pdp_ax': <Axes: xlabel='Inspection Type'>})"
            ]
          },
          "metadata": {},
          "execution_count": 60
        },
        {
          "output_type": "stream",
          "name": "stderr",
          "text": [
            "WARNING:matplotlib.font_manager:findfont: Font family 'Arial' not found.\n",
            "WARNING:matplotlib.font_manager:findfont: Font family 'Arial' not found.\n",
            "WARNING:matplotlib.font_manager:findfont: Font family 'Arial' not found.\n",
            "WARNING:matplotlib.font_manager:findfont: Font family 'Arial' not found.\n",
            "WARNING:matplotlib.font_manager:findfont: Font family 'Arial' not found.\n",
            "WARNING:matplotlib.font_manager:findfont: Font family 'Arial' not found.\n",
            "WARNING:matplotlib.font_manager:findfont: Font family 'Arial' not found.\n",
            "WARNING:matplotlib.font_manager:findfont: Font family 'Arial' not found.\n",
            "WARNING:matplotlib.font_manager:findfont: Font family 'Arial' not found.\n",
            "WARNING:matplotlib.font_manager:findfont: Font family 'Arial' not found.\n",
            "WARNING:matplotlib.font_manager:findfont: Font family 'Arial' not found.\n",
            "WARNING:matplotlib.font_manager:findfont: Font family 'Arial' not found.\n",
            "WARNING:matplotlib.font_manager:findfont: Font family 'Arial' not found.\n",
            "WARNING:matplotlib.font_manager:findfont: Font family 'Arial' not found.\n",
            "WARNING:matplotlib.font_manager:findfont: Font family 'Arial' not found.\n",
            "WARNING:matplotlib.font_manager:findfont: Font family 'Arial' not found.\n",
            "WARNING:matplotlib.font_manager:findfont: Font family 'Arial' not found.\n",
            "WARNING:matplotlib.font_manager:findfont: Font family 'Arial' not found.\n",
            "WARNING:matplotlib.font_manager:findfont: Font family 'Arial' not found.\n",
            "WARNING:matplotlib.font_manager:findfont: Font family 'Arial' not found.\n",
            "WARNING:matplotlib.font_manager:findfont: Font family 'Arial' not found.\n",
            "WARNING:matplotlib.font_manager:findfont: Font family 'Arial' not found.\n",
            "WARNING:matplotlib.font_manager:findfont: Font family 'Arial' not found.\n",
            "WARNING:matplotlib.font_manager:findfont: Font family 'Arial' not found.\n",
            "WARNING:matplotlib.font_manager:findfont: Font family 'Arial' not found.\n",
            "WARNING:matplotlib.font_manager:findfont: Font family 'Arial' not found.\n",
            "WARNING:matplotlib.font_manager:findfont: Font family 'Arial' not found.\n",
            "WARNING:matplotlib.font_manager:findfont: Font family 'Arial' not found.\n",
            "WARNING:matplotlib.font_manager:findfont: Font family 'Arial' not found.\n",
            "WARNING:matplotlib.font_manager:findfont: Font family 'Arial' not found.\n",
            "WARNING:matplotlib.font_manager:findfont: Font family 'Arial' not found.\n",
            "WARNING:matplotlib.font_manager:findfont: Font family 'Arial' not found.\n",
            "WARNING:matplotlib.font_manager:findfont: Font family 'Arial' not found.\n",
            "WARNING:matplotlib.font_manager:findfont: Font family 'Arial' not found.\n",
            "WARNING:matplotlib.font_manager:findfont: Font family 'Arial' not found.\n",
            "WARNING:matplotlib.font_manager:findfont: Font family 'Arial' not found.\n",
            "WARNING:matplotlib.font_manager:findfont: Font family 'Arial' not found.\n",
            "WARNING:matplotlib.font_manager:findfont: Font family 'Arial' not found.\n",
            "WARNING:matplotlib.font_manager:findfont: Font family 'Arial' not found.\n",
            "WARNING:matplotlib.font_manager:findfont: Font family 'Arial' not found.\n",
            "WARNING:matplotlib.font_manager:findfont: Font family 'Arial' not found.\n",
            "WARNING:matplotlib.font_manager:findfont: Font family 'Arial' not found.\n",
            "WARNING:matplotlib.font_manager:findfont: Font family 'Arial' not found.\n",
            "WARNING:matplotlib.font_manager:findfont: Font family 'Arial' not found.\n",
            "WARNING:matplotlib.font_manager:findfont: Font family 'Arial' not found.\n",
            "WARNING:matplotlib.font_manager:findfont: Font family 'Arial' not found.\n",
            "WARNING:matplotlib.font_manager:findfont: Font family 'Arial' not found.\n",
            "WARNING:matplotlib.font_manager:findfont: Font family 'Arial' not found.\n",
            "WARNING:matplotlib.font_manager:findfont: Font family 'Arial' not found.\n",
            "WARNING:matplotlib.font_manager:findfont: Font family 'Arial' not found.\n",
            "WARNING:matplotlib.font_manager:findfont: Font family 'Arial' not found.\n",
            "WARNING:matplotlib.font_manager:findfont: Font family 'Arial' not found.\n",
            "WARNING:matplotlib.font_manager:findfont: Font family 'Arial' not found.\n",
            "WARNING:matplotlib.font_manager:findfont: Font family 'Arial' not found.\n",
            "WARNING:matplotlib.font_manager:findfont: Font family 'Arial' not found.\n",
            "WARNING:matplotlib.font_manager:findfont: Font family 'Arial' not found.\n",
            "WARNING:matplotlib.font_manager:findfont: Font family 'Arial' not found.\n",
            "WARNING:matplotlib.font_manager:findfont: Font family 'Arial' not found.\n",
            "WARNING:matplotlib.font_manager:findfont: Font family 'Arial' not found.\n",
            "WARNING:matplotlib.font_manager:findfont: Font family 'Arial' not found.\n",
            "WARNING:matplotlib.font_manager:findfont: Font family 'Arial' not found.\n",
            "WARNING:matplotlib.font_manager:findfont: Font family 'Arial' not found.\n",
            "WARNING:matplotlib.font_manager:findfont: Font family 'Arial' not found.\n",
            "WARNING:matplotlib.font_manager:findfont: Font family 'Arial' not found.\n",
            "WARNING:matplotlib.font_manager:findfont: Font family 'Arial' not found.\n",
            "WARNING:matplotlib.font_manager:findfont: Font family 'Arial' not found.\n",
            "WARNING:matplotlib.font_manager:findfont: Font family 'Arial' not found.\n",
            "WARNING:matplotlib.font_manager:findfont: Font family 'Arial' not found.\n",
            "WARNING:matplotlib.font_manager:findfont: Font family 'Arial' not found.\n",
            "WARNING:matplotlib.font_manager:findfont: Font family 'Arial' not found.\n",
            "WARNING:matplotlib.font_manager:findfont: Font family 'Arial' not found.\n",
            "WARNING:matplotlib.font_manager:findfont: Font family 'Arial' not found.\n"
          ]
        },
        {
          "output_type": "display_data",
          "data": {
            "text/plain": [
              "<Figure size 1500x950 with 2 Axes>"
            ],
            "image/png": "[encoded data removed]"
          },
          "metadata": {}
        }
      ],
      "source": [
        "X_test_preprocessed_df = pd.DataFrame(X_test_preprocessed, columns=X_test.columns)\n",
        "feature = sorted(p_i, key=lambda x: x[1], reverse=True)[0][0]\n",
        "pdp_isolated = get_pdp_isolated(X_test_preprocessed_df, model, feature)\n",
        "pdp_plot(pdp_isolated, feature_name=feature)"
      ]
    },
    {
      "cell_type": "markdown",
      "id": "e2e68510",
      "metadata": {
        "deletable": false,
        "editable": false,
        "id": "e2e68510",
        "nbgrader": {
          "cell_type": "markdown",
          "checksum": "da725f5c4ee8843a2788366c1dd6358b",
          "grade": false,
          "grade_id": "cell-7060a1b0a5f0cc81",
          "locked": true,
          "schema_version": 3,
          "solution": false,
          "task": false
        }
      },
      "source": [
        "### 위 결과를 기반으로, 아래의 질문에 답해 보세요. \n",
        "- `True`/`False`로 답하고 그 이유를 한 줄로 작성하세요.\n",
        "\n",
        "\n",
        "- **문제 1.** 위 Plot은 해당 특성에 따른 실제 label 값의 양상을 나타낸 것이다.\n",
        "- **문제 2.** 위 Plot은 해당 특성에 따른 모델의 label 예측값의 양상을 나타낸 것이다.\n",
        "- **문제 3.** 단순/다중 선형회귀 모델에서 isolated PDP는 데이터의 분포와는 무관하게 항상 직선이다.\n",
        "- **문제 4.** 단순/다중 선형회귀 모델의 isolated PDP에서 여러 개의 서로 다른 ICE 곡선이 나올 수 있다.\n"
      ]
    },
    {
      "cell_type": "code",
      "execution_count": 87,
      "id": "3cd16341",
      "metadata": {
        "deletable": false,
        "id": "3cd16341",
        "nbgrader": {
          "cell_type": "code",
          "checksum": "3ffba2f6720ac2c45b6c365e891609bd",
          "grade": false,
          "grade_id": "3-2_interpretation",
          "locked": false,
          "schema_version": 3,
          "solution": true,
          "task": false
        }
      },
      "outputs": [],
      "source": [
        "answer_1 = True  # True / False\n",
        "reason_1 = \"\"\n",
        "answer_2 = True  # True / False\n",
        "reason_2 = \"\"\n",
        "answer_3 = True  # True / False\n",
        "reason_3 = \"\"\n",
        "answer_4 = True  # True / False\n",
        "reason_4 = \"\"\n",
        "\n",
        "# YOUR CODE HERE\n",
        "answer_1 = False  # True / False\n",
        "reason_1 = \"실제 값이 아닌 예측값의 양상임\"\n",
        "answer_2 = True  # True / False\n",
        "reason_2 = \"예측값의 양상을 나타내었다고 볼 수 있음음\"\n",
        "answer_3 = False  # True / False\n",
        "reason_3 = \"단순 선형회귀 모델에서는 feature와 모델의 관계가 선형적이기 때문에 직선으로 나타날 수 있으나, 다중의 경우 그렇지 않음\"\n",
        "answer_4 = True  # True / False\n",
        "reason_4 = \"각기 feature와 모델의 관계가 다르기 때문에 서로 다른 ICE 곡선이 나올 수 있음음\"\n",
        "\n",
        "# YOUR CODE ENDS HERE"
      ]
    },
    {
      "cell_type": "code",
      "execution_count": 88,
      "id": "d180ba2b",
      "metadata": {
        "deletable": false,
        "editable": false,
        "id": "d180ba2b",
        "nbgrader": {
          "cell_type": "code",
          "checksum": "8bbc216676c7a58027c11e85bb76693b",
          "grade": true,
          "grade_id": "3-2_test_interpretation",
          "locked": true,
          "points": 1,
          "schema_version": 3,
          "solution": false,
          "task": false
        },
        "colab": {
          "base_uri": "https://localhost:8080/"
        },
        "outputId": "bb9a4d20-aac6-4e58-b0fc-4a3c496bce60"
      },
      "outputs": [
        {
          "output_type": "stream",
          "name": "stdout",
          "text": [
            "A1: False Why?: 실제 값이 아닌 예측값의 양상임\n",
            "A2: True Why?: 예측값의 양상을 나타내었다고 볼 수 있음음\n",
            "A3: False Why?: 단순 선형회귀 모델에서는 feature와 모델의 관계가 선형적이기 때문에 직선으로 나타날 수 있으나, 다중의 경우 그렇지 않음\n",
            "A4: True Why?: 각기 feature와 모델의 관계가 다르기 때문에 서로 다른 ICE 곡선이 나올 수 있음음\n"
          ]
        }
      ],
      "source": [
        "print(\"A1:\", answer_1, \"Why?:\", reason_1)\n",
        "print(\"A2:\", answer_2, \"Why?:\", reason_2)\n",
        "print(\"A3:\", answer_3, \"Why?:\", reason_3)\n",
        "print(\"A4:\", answer_4, \"Why?:\", reason_4)\n"
      ]
    },
    {
      "cell_type": "markdown",
      "id": "61531eeb",
      "metadata": {
        "deletable": false,
        "editable": false,
        "id": "61531eeb",
        "nbgrader": {
          "cell_type": "markdown",
          "checksum": "03f85a5b8e75bdcf8bf948067aa04ff9",
          "grade": false,
          "grade_id": "cell-724d9ce8534e3c8d",
          "locked": true,
          "schema_version": 3,
          "solution": false,
          "task": false
        }
      },
      "source": [
        "## 3.3 2변수 PDP를 생성하는 `get_pdp_interaction` 함수를 작성하세요."
      ]
    },
    {
      "cell_type": "code",
      "execution_count": 92,
      "id": "16d17890",
      "metadata": {
        "deletable": false,
        "id": "16d17890",
        "nbgrader": {
          "cell_type": "code",
          "checksum": "8874910b312630384fab2f9a5cd8571b",
          "grade": false,
          "grade_id": "3-3",
          "locked": false,
          "schema_version": 3,
          "solution": true,
          "task": false
        }
      },
      "outputs": [],
      "source": [
        "from pdpbox.pdp import pdp_interact, pdp_interact_plot\n",
        "\n",
        "\n",
        "def get_pdp_interaction(dataset, model, features):\n",
        "    pdp_interaction = None\n",
        "\n",
        "    # YOUR CODE HERE\n",
        "    features = ['Risk', 'Facility Type']\n",
        "    pdp_interaction = pdp_interact(\n",
        "    model=model,\n",
        "    dataset=dataset,\n",
        "    model_features=dataset.columns,\n",
        "    features=features\n",
        "    )      \n",
        "    #왜 Zip 과 Interaction Type은 안불러와지는지 모르겠음..\n",
        "    # YOUR CODE ENDS HERE\n",
        "\n",
        "    return pdp_interaction"
      ]
    },
    {
      "cell_type": "code",
      "execution_count": 93,
      "id": "572813e8",
      "metadata": {
        "deletable": false,
        "editable": false,
        "id": "572813e8",
        "nbgrader": {
          "cell_type": "code",
          "checksum": "04809c85a8110e63431c9419cdb9e5ea",
          "grade": true,
          "grade_id": "3-3_test_code",
          "locked": true,
          "points": 1,
          "schema_version": 3,
          "solution": false,
          "task": false
        },
        "colab": {
          "base_uri": "https://localhost:8080/",
          "height": 1000
        },
        "outputId": "55eb982f-4fc8-4f8b-8e11-85056324ab76"
      },
      "outputs": [
        {
          "output_type": "execute_result",
          "data": {
            "text/plain": [
              "(<Figure size 750x950 with 3 Axes>,\n",
              " {'title_ax': <Axes: >,\n",
              "  'pdp_inter_ax': <Axes: xlabel='Inspection Type', ylabel='Zip'>})"
            ]
          },
          "metadata": {},
          "execution_count": 93
        },
        {
          "output_type": "stream",
          "name": "stderr",
          "text": [
            "WARNING:matplotlib.font_manager:findfont: Font family 'Arial' not found.\n",
            "WARNING:matplotlib.font_manager:findfont: Font family 'Arial' not found.\n",
            "WARNING:matplotlib.font_manager:findfont: Font family 'Arial' not found.\n",
            "WARNING:matplotlib.font_manager:findfont: Font family 'Arial' not found.\n",
            "WARNING:matplotlib.font_manager:findfont: Font family 'Arial' not found.\n",
            "WARNING:matplotlib.font_manager:findfont: Font family 'Arial' not found.\n",
            "WARNING:matplotlib.font_manager:findfont: Font family 'Arial' not found.\n",
            "WARNING:matplotlib.font_manager:findfont: Font family 'Arial' not found.\n",
            "WARNING:matplotlib.font_manager:findfont: Font family 'Arial' not found.\n",
            "WARNING:matplotlib.font_manager:findfont: Font family 'Arial' not found.\n",
            "WARNING:matplotlib.font_manager:findfont: Font family 'Arial' not found.\n",
            "WARNING:matplotlib.font_manager:findfont: Font family 'Arial' not found.\n",
            "WARNING:matplotlib.font_manager:findfont: Font family 'Arial' not found.\n",
            "WARNING:matplotlib.font_manager:findfont: Font family 'Arial' not found.\n",
            "WARNING:matplotlib.font_manager:findfont: Font family 'Arial' not found.\n",
            "WARNING:matplotlib.font_manager:findfont: Font family 'Arial' not found.\n",
            "WARNING:matplotlib.font_manager:findfont: Font family 'Arial' not found.\n",
            "WARNING:matplotlib.font_manager:findfont: Font family 'Arial' not found.\n",
            "WARNING:matplotlib.font_manager:findfont: Font family 'Arial' not found.\n",
            "WARNING:matplotlib.font_manager:findfont: Font family 'Arial' not found.\n",
            "WARNING:matplotlib.font_manager:findfont: Font family 'Arial' not found.\n",
            "WARNING:matplotlib.font_manager:findfont: Font family 'Arial' not found.\n",
            "WARNING:matplotlib.font_manager:findfont: Font family 'Arial' not found.\n",
            "WARNING:matplotlib.font_manager:findfont: Font family 'Arial' not found.\n",
            "WARNING:matplotlib.font_manager:findfont: Font family 'Arial' not found.\n",
            "WARNING:matplotlib.font_manager:findfont: Font family 'Arial' not found.\n",
            "WARNING:matplotlib.font_manager:findfont: Font family 'Arial' not found.\n",
            "WARNING:matplotlib.font_manager:findfont: Font family 'Arial' not found.\n",
            "WARNING:matplotlib.font_manager:findfont: Font family 'Arial' not found.\n",
            "WARNING:matplotlib.font_manager:findfont: Font family 'Arial' not found.\n",
            "WARNING:matplotlib.font_manager:findfont: Font family 'Arial' not found.\n",
            "WARNING:matplotlib.font_manager:findfont: Font family 'Arial' not found.\n",
            "WARNING:matplotlib.font_manager:findfont: Font family 'Arial' not found.\n",
            "WARNING:matplotlib.font_manager:findfont: Font family 'Arial' not found.\n",
            "WARNING:matplotlib.font_manager:findfont: Font family 'Arial' not found.\n",
            "WARNING:matplotlib.font_manager:findfont: Font family 'Arial' not found.\n",
            "WARNING:matplotlib.font_manager:findfont: Font family 'Arial' not found.\n",
            "WARNING:matplotlib.font_manager:findfont: Font family 'Arial' not found.\n",
            "WARNING:matplotlib.font_manager:findfont: Font family 'Arial' not found.\n",
            "WARNING:matplotlib.font_manager:findfont: Font family 'Arial' not found.\n",
            "WARNING:matplotlib.font_manager:findfont: Font family 'Arial' not found.\n",
            "WARNING:matplotlib.font_manager:findfont: Font family 'Arial' not found.\n",
            "WARNING:matplotlib.font_manager:findfont: Font family 'Arial' not found.\n",
            "WARNING:matplotlib.font_manager:findfont: Font family 'Arial' not found.\n",
            "WARNING:matplotlib.font_manager:findfont: Font family 'Arial' not found.\n",
            "WARNING:matplotlib.font_manager:findfont: Font family 'Arial' not found.\n",
            "WARNING:matplotlib.font_manager:findfont: Font family 'Arial' not found.\n",
            "WARNING:matplotlib.font_manager:findfont: Font family 'Arial' not found.\n",
            "WARNING:matplotlib.font_manager:findfont: Font family 'Arial' not found.\n",
            "WARNING:matplotlib.font_manager:findfont: Font family 'Arial' not found.\n",
            "WARNING:matplotlib.font_manager:findfont: Font family 'Arial' not found.\n",
            "WARNING:matplotlib.font_manager:findfont: Font family 'Arial' not found.\n",
            "WARNING:matplotlib.font_manager:findfont: Font family 'Arial' not found.\n",
            "WARNING:matplotlib.font_manager:findfont: Font family 'Arial' not found.\n",
            "WARNING:matplotlib.font_manager:findfont: Font family 'Arial' not found.\n",
            "WARNING:matplotlib.font_manager:findfont: Font family 'Arial' not found.\n",
            "WARNING:matplotlib.font_manager:findfont: Font family 'Arial' not found.\n",
            "WARNING:matplotlib.font_manager:findfont: Font family 'Arial' not found.\n",
            "WARNING:matplotlib.font_manager:findfont: Font family 'Arial' not found.\n",
            "WARNING:matplotlib.font_manager:findfont: Font family 'Arial' not found.\n",
            "WARNING:matplotlib.font_manager:findfont: Font family 'Arial' not found.\n",
            "WARNING:matplotlib.font_manager:findfont: Font family 'Arial' not found.\n",
            "WARNING:matplotlib.font_manager:findfont: Font family 'Arial' not found.\n",
            "WARNING:matplotlib.font_manager:findfont: Font family 'Arial' not found.\n",
            "WARNING:matplotlib.font_manager:findfont: Font family 'Arial' not found.\n",
            "WARNING:matplotlib.font_manager:findfont: Font family 'Arial' not found.\n",
            "WARNING:matplotlib.font_manager:findfont: Font family 'Arial' not found.\n",
            "WARNING:matplotlib.font_manager:findfont: Font family 'Arial' not found.\n",
            "WARNING:matplotlib.font_manager:findfont: Font family 'Arial' not found.\n",
            "WARNING:matplotlib.font_manager:findfont: Font family 'Arial' not found.\n",
            "WARNING:matplotlib.font_manager:findfont: Font family 'Arial' not found.\n",
            "WARNING:matplotlib.font_manager:findfont: Font family 'Arial' not found.\n",
            "WARNING:matplotlib.font_manager:findfont: Font family 'Arial' not found.\n",
            "WARNING:matplotlib.font_manager:findfont: Font family 'Arial' not found.\n",
            "WARNING:matplotlib.font_manager:findfont: Font family 'Arial' not found.\n",
            "WARNING:matplotlib.font_manager:findfont: Font family 'Arial' not found.\n",
            "WARNING:matplotlib.font_manager:findfont: Font family 'Arial' not found.\n",
            "WARNING:matplotlib.font_manager:findfont: Font family 'Arial' not found.\n",
            "WARNING:matplotlib.font_manager:findfont: Font family 'Arial' not found.\n",
            "WARNING:matplotlib.font_manager:findfont: Font family 'Arial' not found.\n",
            "WARNING:matplotlib.font_manager:findfont: Font family 'Arial' not found.\n",
            "WARNING:matplotlib.font_manager:findfont: Font family 'Arial' not found.\n",
            "WARNING:matplotlib.font_manager:findfont: Font family 'Arial' not found.\n",
            "WARNING:matplotlib.font_manager:findfont: Font family 'Arial' not found.\n",
            "WARNING:matplotlib.font_manager:findfont: Font family 'Arial' not found.\n",
            "WARNING:matplotlib.font_manager:findfont: Font family 'Arial' not found.\n",
            "WARNING:matplotlib.font_manager:findfont: Font family 'Arial' not found.\n",
            "WARNING:matplotlib.font_manager:findfont: Font family 'Arial' not found.\n",
            "WARNING:matplotlib.font_manager:findfont: Font family 'Arial' not found.\n",
            "WARNING:matplotlib.font_manager:findfont: Font family 'Arial' not found.\n",
            "WARNING:matplotlib.font_manager:findfont: Font family 'Arial' not found.\n",
            "WARNING:matplotlib.font_manager:findfont: Font family 'Arial' not found.\n",
            "WARNING:matplotlib.font_manager:findfont: Font family 'Arial' not found.\n",
            "WARNING:matplotlib.font_manager:findfont: Font family 'Arial' not found.\n",
            "WARNING:matplotlib.font_manager:findfont: Font family 'Arial' not found.\n",
            "WARNING:matplotlib.font_manager:findfont: Font family 'Arial' not found.\n",
            "WARNING:matplotlib.font_manager:findfont: Font family 'Arial' not found.\n",
            "WARNING:matplotlib.font_manager:findfont: Font family 'Arial' not found.\n",
            "WARNING:matplotlib.font_manager:findfont: Font family 'Arial' not found.\n",
            "WARNING:matplotlib.font_manager:findfont: Font family 'Arial' not found.\n",
            "WARNING:matplotlib.font_manager:findfont: Font family 'Arial' not found.\n",
            "WARNING:matplotlib.font_manager:findfont: Font family 'Arial' not found.\n",
            "WARNING:matplotlib.font_manager:findfont: Font family 'Arial' not found.\n",
            "WARNING:matplotlib.font_manager:findfont: Font family 'Arial' not found.\n",
            "WARNING:matplotlib.font_manager:findfont: Font family 'Arial' not found.\n",
            "WARNING:matplotlib.font_manager:findfont: Font family 'Arial' not found.\n",
            "WARNING:matplotlib.font_manager:findfont: Font family 'Arial' not found.\n",
            "WARNING:matplotlib.font_manager:findfont: Font family 'Arial' not found.\n",
            "WARNING:matplotlib.font_manager:findfont: Font family 'Arial' not found.\n",
            "WARNING:matplotlib.font_manager:findfont: Font family 'Arial' not found.\n",
            "WARNING:matplotlib.font_manager:findfont: Font family 'Arial' not found.\n",
            "WARNING:matplotlib.font_manager:findfont: Font family 'Arial' not found.\n",
            "WARNING:matplotlib.font_manager:findfont: Font family 'Arial' not found.\n",
            "WARNING:matplotlib.font_manager:findfont: Font family 'Arial' not found.\n",
            "WARNING:matplotlib.font_manager:findfont: Font family 'Arial' not found.\n",
            "WARNING:matplotlib.font_manager:findfont: Font family 'Arial' not found.\n",
            "WARNING:matplotlib.font_manager:findfont: Font family 'Arial' not found.\n",
            "WARNING:matplotlib.font_manager:findfont: Font family 'Arial' not found.\n",
            "WARNING:matplotlib.font_manager:findfont: Font family 'Arial' not found.\n",
            "WARNING:matplotlib.font_manager:findfont: Font family 'Arial' not found.\n",
            "WARNING:matplotlib.font_manager:findfont: Font family 'Arial' not found.\n",
            "WARNING:matplotlib.font_manager:findfont: Font family 'Arial' not found.\n",
            "WARNING:matplotlib.font_manager:findfont: Font family 'Arial' not found.\n",
            "WARNING:matplotlib.font_manager:findfont: Font family 'Arial' not found.\n",
            "WARNING:matplotlib.font_manager:findfont: Font family 'Arial' not found.\n",
            "WARNING:matplotlib.font_manager:findfont: Font family 'Arial' not found.\n",
            "WARNING:matplotlib.font_manager:findfont: Font family 'Arial' not found.\n",
            "WARNING:matplotlib.font_manager:findfont: Font family 'Arial' not found.\n",
            "WARNING:matplotlib.font_manager:findfont: Font family 'Arial' not found.\n",
            "WARNING:matplotlib.font_manager:findfont: Font family 'Arial' not found.\n",
            "WARNING:matplotlib.font_manager:findfont: Font family 'Arial' not found.\n",
            "WARNING:matplotlib.font_manager:findfont: Font family 'Arial' not found.\n",
            "WARNING:matplotlib.font_manager:findfont: Font family 'Arial' not found.\n",
            "WARNING:matplotlib.font_manager:findfont: Font family 'Arial' not found.\n",
            "WARNING:matplotlib.font_manager:findfont: Font family 'Arial' not found.\n",
            "WARNING:matplotlib.font_manager:findfont: Font family 'Arial' not found.\n",
            "WARNING:matplotlib.font_manager:findfont: Font family 'Arial' not found.\n",
            "WARNING:matplotlib.font_manager:findfont: Font family 'Arial' not found.\n",
            "WARNING:matplotlib.font_manager:findfont: Font family 'Arial' not found.\n",
            "WARNING:matplotlib.font_manager:findfont: Font family 'Arial' not found.\n"
          ]
        },
        {
          "output_type": "display_data",
          "data": {
            "text/plain": [
              "<Figure size 750x950 with 3 Axes>"
            ],
            "image/png": "[encoded data removed]"
          },
          "metadata": {}
        }
      ],
      "source": [
        "features = list(map(lambda x: x[0], sorted(p_i, key=lambda x: x[1], reverse=True)))[:2]\n",
        "pdp_interaction = get_pdp_interaction(X_test_preprocessed_df, model, features)\n",
        "pdp_interact_plot(pdp_interaction, feature_names=features, plot_type=\"grid\")"
      ]
    },
    {
      "cell_type": "markdown",
      "id": "931d2ded",
      "metadata": {
        "id": "931d2ded"
      },
      "source": [
        "---"
      ]
    },
    {
      "cell_type": "markdown",
      "id": "03a42268",
      "metadata": {
        "id": "03a42268"
      },
      "source": [
        "# 수고하셨습니다!"
      ]
    }
  ],
  "metadata": {
    "colab": {
      "provenance": [],
      "include_colab_link": true
    },
    "kernelspec": {
      "display_name": "Python 3 (ipykernel)",
      "language": "python",
      "name": "python3"
    },
    "language_info": {
      "codemirror_mode": {
        "name": "ipython",
        "version": 3
      },
      "file_extension": ".py",
      "mimetype": "text/x-python",
      "name": "python",
      "nbconvert_exporter": "python",
      "pygments_lexer": "ipython3",
      "version": "3.9.6"
    },
    "toc": {
      "base_numbering": 1,
      "nav_menu": {},
      "number_sections": true,
      "sideBar": true,
      "skip_h1_title": false,
      "title_cell": "Table of Contents",
      "title_sidebar": "Contents",
      "toc_cell": false,
      "toc_position": {},
      "toc_section_display": true,
      "toc_window_display": false
    },
    "varInspector": {
      "cols": {
        "lenName": 16,
        "lenType": 16,
        "lenVar": 40
      },
      "kernels_config": {
        "python": {
          "delete_cmd_postfix": "",
          "delete_cmd_prefix": "del ",
          "library": "var_list.py",
          "varRefreshCmd": "print(var_dic_list())"
        },
        "r": {
          "delete_cmd_postfix": ") ",
          "delete_cmd_prefix": "rm(",
          "library": "var_list.r",
          "varRefreshCmd": "cat(var_dic_list()) "
        }
      },
      "types_to_exclude": [
        "module",
        "function",
        "builtin_function_or_method",
        "instance",
        "_Feature"
      ],
      "window_display": false
    },
    "accelerator": "GPU",
    "gpuClass": "standard"
  },
  "nbformat": 4,
  "nbformat_minor": 5
}